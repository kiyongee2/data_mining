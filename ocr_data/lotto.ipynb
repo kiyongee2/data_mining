{
 "cells": [
  {
   "cell_type": "code",
   "execution_count": 39,
   "id": "bb8dcf62",
   "metadata": {},
   "outputs": [
    {
     "data": {
      "text/plain": [
       "'\\n1060회 당첨결과\\n(2023년 03월 25일 추첨)\\n\\n\\n당첨번호\\n\\n3\\n10\\n24\\n33\\n38\\n45\\n\\n\\n\\n보너스\\n36\\n\\n\\n'"
      ]
     },
     "execution_count": 39,
     "metadata": {},
     "output_type": "execute_result"
    }
   ],
   "source": [
    "import requests\n",
    "from bs4 import BeautifulSoup\n",
    "\n",
    "num = 1060\n",
    "url = 'https://dhlottery.co.kr/gameResult.do?method=byWin&drwNo={}'.format(num)\n",
    "response = requests.get(url)\n",
    "# print(response.text)\n",
    "\n",
    "soup = BeautifulSoup(response.text, 'html.parser')\n",
    "win_result = soup.select_one('div.win_result')\n",
    "win_result.text"
   ]
  },
  {
   "cell_type": "code",
   "execution_count": 40,
   "id": "d2f91c4c",
   "metadata": {},
   "outputs": [
    {
     "data": {
      "text/plain": [
       "['',\n",
       " '1060회 당첨결과',\n",
       " '(2023년 03월 25일 추첨)',\n",
       " '',\n",
       " '',\n",
       " '당첨번호',\n",
       " '',\n",
       " '3',\n",
       " '10',\n",
       " '24',\n",
       " '33',\n",
       " '38',\n",
       " '45',\n",
       " '',\n",
       " '',\n",
       " '',\n",
       " '보너스',\n",
       " '36',\n",
       " '',\n",
       " '',\n",
       " '']"
      ]
     },
     "execution_count": 40,
     "metadata": {},
     "output_type": "execute_result"
    }
   ],
   "source": [
    "win_list = win_result.text.split('\\n')\n",
    "win_list"
   ]
  },
  {
   "cell_type": "code",
   "execution_count": 41,
   "id": "a6ce5b0e",
   "metadata": {},
   "outputs": [
    {
     "name": "stdout",
     "output_type": "stream",
     "text": [
      "당첨번호\n",
      "['3', '10', '24', '33', '38', '45']\n",
      "당첨번호\n",
      "36\n"
     ]
    }
   ],
   "source": [
    "win_list = win_result.text.split('\\n')[7:13]\n",
    "win_list\n",
    "bonus_num = win_result.text.split('\\n')[-4]\n",
    "bonus_num\n",
    "print(\"당첨번호\")\n",
    "print(win_list)\n",
    "print(\"당첨번호\")\n",
    "print(bonus_num)"
   ]
  },
  {
   "cell_type": "code",
   "execution_count": 42,
   "id": "4b4577d5",
   "metadata": {},
   "outputs": [],
   "source": [
    "import requests\n",
    "from bs4 import BeautifulSoup\n",
    "from tkinter import *\n",
    "\n",
    "def lotto_win():\n",
    "    #num = 1060\n",
    "    num = entry.get()  # 입력된 당첨 번호\n",
    "    \n",
    "    url = 'https://dhlottery.co.kr/gameResult.do?method=byWin&drwNo={}'.format(num)\n",
    "    response = requests.get(url)\n",
    "    # print(response.text)\n",
    "\n",
    "    soup = BeautifulSoup(response.text, 'html.parser')\n",
    "    win_result = soup.select_one('div.win_result')\n",
    "    win_result.text\n",
    "\n",
    "    win_list = win_result.text.split('\\n')[7:13]\n",
    "    win_list\n",
    "    bonus_num = win_result.text.split('\\n')[-4]\n",
    "    \n",
    "    # 출력 상자에 출력\n",
    "    output.delete(0.0, END)\n",
    "    output.insert(END, f'당첨번호: {win_list}\\n\\n보너스: {bonus_num}')\n",
    "    \n",
    "    '''\n",
    "    bonus_num\n",
    "    print(\"당첨번호\")\n",
    "    print(win_list)\n",
    "    print(\"당첨번호\")\n",
    "    print(bonus_num)\n",
    "    '''\n",
    "    \n",
    "window = Tk()\n",
    "window.title(\"로또 당첨\")\n",
    "#win.option_add(\"*Font\", \"고딕 16\")\n",
    "\n",
    "Label(window, text=\"당첨 회차 입력: \").grid(row=0, column=0, sticky=W)\n",
    "entry = Entry(window)\n",
    "entry.grid(row=1, column=0, sticky=W)\n",
    "\n",
    "btn = Button(window, text = '로또 당첨 번호 확인', command=lotto_win)\n",
    "btn.grid(row=2, column=0, sticky=W)\n",
    "\n",
    "output = Text(window, width=50, height=5, bg='skyblue')\n",
    "output.grid(row=3, column=0, sticky=W)\n",
    "\n",
    "\n",
    "window.mainloop()"
   ]
  },
  {
   "cell_type": "code",
   "execution_count": null,
   "id": "d7175e00",
   "metadata": {},
   "outputs": [],
   "source": []
  }
 ],
 "metadata": {
  "kernelspec": {
   "display_name": "Python 3 (ipykernel)",
   "language": "python",
   "name": "python3"
  },
  "language_info": {
   "codemirror_mode": {
    "name": "ipython",
    "version": 3
   },
   "file_extension": ".py",
   "mimetype": "text/x-python",
   "name": "python",
   "nbconvert_exporter": "python",
   "pygments_lexer": "ipython3",
   "version": "3.9.7"
  }
 },
 "nbformat": 4,
 "nbformat_minor": 5
}
