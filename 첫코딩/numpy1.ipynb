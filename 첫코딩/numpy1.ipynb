{
 "cells": [
  {
   "cell_type": "code",
   "execution_count": 1,
   "id": "54c4cb64",
   "metadata": {},
   "outputs": [
    {
     "data": {
      "text/plain": [
       "array([0, 1, 2, 3, 4, 5, 6, 7, 8, 9])"
      ]
     },
     "execution_count": 1,
     "metadata": {},
     "output_type": "execute_result"
    }
   ],
   "source": [
    "import numpy as np\n",
    "\n",
    "a = np.arange(10)\n",
    "a"
   ]
  },
  {
   "cell_type": "code",
   "execution_count": 2,
   "id": "a9a35e4e",
   "metadata": {},
   "outputs": [
    {
     "data": {
      "text/plain": [
       "array([ 1,  2,  3,  4,  5,  6,  7,  8,  9, 10])"
      ]
     },
     "execution_count": 2,
     "metadata": {},
     "output_type": "execute_result"
    }
   ],
   "source": [
    "1 + np.arange(10)"
   ]
  },
  {
   "cell_type": "code",
   "execution_count": 3,
   "id": "3db184b6",
   "metadata": {},
   "outputs": [
    {
     "data": {
      "text/plain": [
       "array([3, 4, 5, 6, 7, 8])"
      ]
     },
     "execution_count": 3,
     "metadata": {},
     "output_type": "execute_result"
    }
   ],
   "source": [
    "a1 = np.arange(3, 9)\n",
    "a1"
   ]
  },
  {
   "cell_type": "code",
   "execution_count": 4,
   "id": "3bb0e8b3",
   "metadata": {},
   "outputs": [
    {
     "data": {
      "text/plain": [
       "array([3, 5, 7])"
      ]
     },
     "execution_count": 4,
     "metadata": {},
     "output_type": "execute_result"
    }
   ],
   "source": [
    "a3 = np.arange(3, 9, 2)\n",
    "a3"
   ]
  },
  {
   "cell_type": "code",
   "execution_count": 6,
   "id": "0dba238d",
   "metadata": {},
   "outputs": [
    {
     "name": "stdout",
     "output_type": "stream",
     "text": [
      "[0 1 2 3]\n"
     ]
    }
   ],
   "source": [
    "a = [0, 1, 2, 3]\n",
    "array = np.array(a)\n",
    "print(array)"
   ]
  },
  {
   "cell_type": "code",
   "execution_count": 10,
   "id": "3851215c",
   "metadata": {},
   "outputs": [
    {
     "name": "stdout",
     "output_type": "stream",
     "text": [
      "[3. 6. 9.]\n",
      "[-1. -2. -3.]\n",
      "[ 2.  8. 18.]\n",
      "[0.5 0.5 0.5]\n"
     ]
    }
   ],
   "source": [
    "x = np.array([1.0, 2.0, 3.0])\n",
    "x\n",
    "y = np.array([2.0, 4.0, 6.0])\n",
    "y\n",
    "print(x+y)\n",
    "print(x-y)\n",
    "print(x*y)\n",
    "print(x/y)"
   ]
  },
  {
   "cell_type": "code",
   "execution_count": 13,
   "id": "3e18c7a6",
   "metadata": {},
   "outputs": [
    {
     "name": "stdout",
     "output_type": "stream",
     "text": [
      "(3,)\n",
      "float64\n",
      "[0.5 1.  1.5]\n"
     ]
    }
   ],
   "source": [
    "A = np.array([1.0, 2.0, 3.0])\n",
    "print(A.shape)\n",
    "print(A.dtype)\n",
    "print(A / 2.0)"
   ]
  },
  {
   "cell_type": "code",
   "execution_count": 21,
   "id": "db95b1de",
   "metadata": {},
   "outputs": [
    {
     "name": "stdout",
     "output_type": "stream",
     "text": [
      "[[1 2]\n",
      " [3 4]]\n",
      "[[3 0]\n",
      " [0 6]]\n",
      "[[ 4  2]\n",
      " [ 3 10]]\n",
      "[[ 3  0]\n",
      " [ 0 24]]\n"
     ]
    }
   ],
   "source": [
    "A = np.array([[1,2], [3,4]])\n",
    "print(A)\n",
    "#print(A.shape)\n",
    "#print(A.dtype)\n",
    "B = np.array([[3, 0], [0, 6]])\n",
    "print(B)\n",
    "print(A+B)\n",
    "print(A*B)"
   ]
  },
  {
   "cell_type": "code",
   "execution_count": 33,
   "id": "65a3f45b",
   "metadata": {},
   "outputs": [
    {
     "name": "stdout",
     "output_type": "stream",
     "text": [
      "[[0. 0. 0.]\n",
      " [0. 0. 0.]\n",
      " [0. 0. 0.]]\n",
      "(3, 3)\n",
      "[['1' '1']\n",
      " ['1' '1']]\n",
      "(2, 2)\n"
     ]
    }
   ],
   "source": [
    "a1 = np.zeros((3, 3))\n",
    "print(a1)\n",
    "print(a1.shape)\n",
    "a2 = np.ones((2, 2), dtype=str)\n",
    "print(a2)\n",
    "print(a2.shape)"
   ]
  },
  {
   "cell_type": "code",
   "execution_count": 43,
   "id": "123d20ae",
   "metadata": {},
   "outputs": [
    {
     "name": "stdout",
     "output_type": "stream",
     "text": [
      "[[1 2]\n",
      " [3 4]]\n",
      "[1 2]\n",
      "[3 4]\n",
      "4\n",
      "[1 2]\n",
      "[3 4]\n",
      "10\n",
      "20\n",
      "[[11 22]\n",
      " [13 24]]\n",
      "[[10 40]\n",
      " [30 80]]\n"
     ]
    }
   ],
   "source": [
    "# 원소 접근\n",
    "A = np.array([[1, 2], [3, 4]])\n",
    "print(A)\n",
    "print(A[0])\n",
    "print(A[1])\n",
    "print(A[1][1])\n",
    "\n",
    "for row in A:\n",
    "    print(row)\n",
    "\n",
    "# 브로드 캐스트 - 형상이 다른 배열끼리 연산 수행\n",
    "B = np.array([10, 20])\n",
    "print(B[0])\n",
    "print(B[1])\n",
    "print(A+B)\n",
    "print(A*B)"
   ]
  },
  {
   "cell_type": "markdown",
   "id": "701beb5b",
   "metadata": {},
   "source": [
    "### 2019년 프로야구 성적표"
   ]
  },
  {
   "cell_type": "code",
   "execution_count": 63,
   "id": "2912e5d0",
   "metadata": {},
   "outputs": [],
   "source": [
    "import numpy as np\n",
    "\n",
    "순위 = 1 + np.arange(10)\n",
    "팀 = np.array(['SSG', 'LG', '키움', 'LG', 'KT', '기아', 'NC', '삼성', '롯데', '두산', '한화'])\n",
    "승 = np.array([88, 87, 80, 80, 70, 67, 66, 64, 60, 46])\n",
    "패 = np.array([52, 55, 62, 62, 73, 74, 76, 76, 82, 96])\n",
    "무 = np.array([4, 2, 2, 2, 1, 3, 2, 4, 2, 2])\n",
    "승률 = np.array([0.629, 0.613, 0.563, 0.563, 0.490, 0.475, 0.465, 0.457, 0.423, 0.324])\n",
    "\n",
    "with open(\"data/2019kbo.txt\", 'w') as f:\n",
    "    f.write(\"========== 2022 한국 프로야구 성적표 ==========\\n\")\n",
    "    head = \"순위\\t팀\\t승\\t패\\t무\\t승률\"\n",
    "    f.write(head)\n",
    "    f.write('\\n')\n",
    "    for i in range(len(team)):\n",
    "        txt = f'{순위[i]}\\t{팀[i]}\\t{승[i]}\\t{패[i]}\\t{무[i]}\\t{승률[i]}\\n'\n",
    "        f.write(txt)"
   ]
  },
  {
   "cell_type": "code",
   "execution_count": 64,
   "id": "5d8be6fc",
   "metadata": {},
   "outputs": [
    {
     "name": "stdout",
     "output_type": "stream",
     "text": [
      "========== 2022 한국 프로야구 성적표 ==========\n",
      "순위\t팀\t승\t패\t무\t승률\n",
      "1\tSSG\t88\t52\t4\t0.629\n",
      "2\tLG\t87\t55\t2\t0.613\n",
      "3\t키움\t80\t62\t2\t0.563\n",
      "4\tLG\t80\t62\t2\t0.563\n",
      "5\tKT\t70\t73\t1\t0.49\n",
      "6\t기아\t67\t74\t3\t0.475\n",
      "7\tNC\t66\t76\t2\t0.465\n",
      "8\t삼성\t64\t76\t4\t0.457\n",
      "9\t롯데\t60\t82\t2\t0.423\n",
      "10\t두산\t46\t96\t2\t0.324\n",
      "\n"
     ]
    }
   ],
   "source": [
    "with open(\"data/2019kbo.txt\", 'r') as f:\n",
    "    data = f.read()\n",
    "    print(data)"
   ]
  },
  {
   "cell_type": "code",
   "execution_count": null,
   "id": "46fbbe94",
   "metadata": {},
   "outputs": [],
   "source": []
  }
 ],
 "metadata": {
  "kernelspec": {
   "display_name": "Python 3 (ipykernel)",
   "language": "python",
   "name": "python3"
  },
  "language_info": {
   "codemirror_mode": {
    "name": "ipython",
    "version": 3
   },
   "file_extension": ".py",
   "mimetype": "text/x-python",
   "name": "python",
   "nbconvert_exporter": "python",
   "pygments_lexer": "ipython3",
   "version": "3.9.7"
  }
 },
 "nbformat": 4,
 "nbformat_minor": 5
}
