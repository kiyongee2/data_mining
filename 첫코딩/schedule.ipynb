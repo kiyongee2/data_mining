{
 "cells": [
  {
   "cell_type": "code",
   "execution_count": 1,
   "id": "27056537",
   "metadata": {},
   "outputs": [
    {
     "name": "stdout",
     "output_type": "stream",
     "text": [
      "--- 학원 시간표 ---\n",
      "     월요일 수요일  금요일\n",
      "1교시   국어  영어  NaN\n",
      "2교시   수학  영어   수학\n",
      "3교시  NaN  수학   국어\n"
     ]
    }
   ],
   "source": [
    "import pandas as pd\n",
    "\n",
    "# 데이터 생성\n",
    "월 = pd.Series({'1교시':'국어', '2교시':'수학'})\n",
    "수 = pd.Series({'1교시':'영어', '2교시':'영어', '3교시':'수학'})\n",
    "금 = pd.Series({'2교시':'수학', '3교시':'국어'})\n",
    "\n",
    "학원시간표 = pd.DataFrame({\n",
    "    '월요일': 월,\n",
    "    '수요일': 수,\n",
    "    '금요일': 금\n",
    "})\n",
    "\n",
    "print('--- 학원 시간표 ---')\n",
    "print(학원시간표)"
   ]
  },
  {
   "cell_type": "code",
   "execution_count": 10,
   "id": "55d088b1",
   "metadata": {},
   "outputs": [
    {
     "name": "stdout",
     "output_type": "stream",
     "text": [
      "--- 수정된 학원 시간표 ---\n",
      "    월요일 수요일 금요일\n",
      "1교시  국어  영어   X\n",
      "2교시  수학  영어  수학\n",
      "3교시   X  수학  국어\n"
     ]
    }
   ],
   "source": [
    "# 데이터 csv 파일로 저장\n",
    "학원시간표.to_csv('./data/학원시간표.csv')\n",
    "\n",
    "# csv 파일 호출\n",
    "학원시간표_정리 = pd.read_csv('./data/학원시간표.csv', index_col=0)\n",
    "\n",
    "# 데이터 변경\n",
    "학원시간표_정리.loc['3교시']['월요일'] = 'X'\n",
    "학원시간표_정리.iloc[0][2] = 'X'\n",
    "\n",
    "print('\\n--- 수정된 학원 시간표 ---')\n",
    "print(학원시간표_정리)"
   ]
  },
  {
   "cell_type": "code",
   "execution_count": 14,
   "id": "becfe2de",
   "metadata": {},
   "outputs": [
    {
     "data": {
      "text/plain": [
       "1교시     True\n",
       "2교시     True\n",
       "3교시    False\n",
       "Name: 수요일, dtype: bool"
      ]
     },
     "execution_count": 14,
     "metadata": {},
     "output_type": "execute_result"
    }
   ],
   "source": [
    "학원시간표_정리['수요일'] == '영어'"
   ]
  },
  {
   "cell_type": "code",
   "execution_count": 15,
   "id": "e9a091f0",
   "metadata": {},
   "outputs": [
    {
     "name": "stdout",
     "output_type": "stream",
     "text": [
      "\n",
      "--- 수요일 영어만 있는 시간표 ---\n",
      "    월요일 수요일 금요일\n",
      "1교시  국어  영어   X\n",
      "2교시  수학  영어  수학\n"
     ]
    }
   ],
   "source": [
    "print('\\n--- 수요일 영어만 있는 시간표 ---')\n",
    "print(학원시간표_정리[학원시간표_정리['수요일'] == '영어'])"
   ]
  },
  {
   "cell_type": "code",
   "execution_count": null,
   "id": "4057fa67",
   "metadata": {},
   "outputs": [],
   "source": []
  }
 ],
 "metadata": {
  "kernelspec": {
   "display_name": "Python 3 (ipykernel)",
   "language": "python",
   "name": "python3"
  },
  "language_info": {
   "codemirror_mode": {
    "name": "ipython",
    "version": 3
   },
   "file_extension": ".py",
   "mimetype": "text/x-python",
   "name": "python",
   "nbconvert_exporter": "python",
   "pygments_lexer": "ipython3",
   "version": "3.9.7"
  }
 },
 "nbformat": 4,
 "nbformat_minor": 5
}
