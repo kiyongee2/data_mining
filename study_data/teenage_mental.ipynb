{
 "cells": [
  {
   "cell_type": "markdown",
   "id": "da96691a",
   "metadata": {},
   "source": [
    "## 서울시 청소년들의 스트레스 데이터 읽기"
   ]
  },
  {
   "cell_type": "code",
   "execution_count": 15,
   "id": "f95ad5c6",
   "metadata": {},
   "outputs": [
    {
     "data": {
      "text/html": [
       "<div>\n",
       "<style scoped>\n",
       "    .dataframe tbody tr th:only-of-type {\n",
       "        vertical-align: middle;\n",
       "    }\n",
       "\n",
       "    .dataframe tbody tr th {\n",
       "        vertical-align: top;\n",
       "    }\n",
       "\n",
       "    .dataframe thead th {\n",
       "        text-align: right;\n",
       "    }\n",
       "</style>\n",
       "<table border=\"1\" class=\"dataframe\">\n",
       "  <thead>\n",
       "    <tr style=\"text-align: right;\">\n",
       "      <th></th>\n",
       "      <th>전체</th>\n",
       "      <th>남학생</th>\n",
       "      <th>여학생</th>\n",
       "      <th>전체.1</th>\n",
       "      <th>남학생.1</th>\n",
       "      <th>여학생.1</th>\n",
       "      <th>전체.2</th>\n",
       "      <th>남학생.2</th>\n",
       "      <th>여학생.2</th>\n",
       "    </tr>\n",
       "  </thead>\n",
       "  <tbody>\n",
       "    <tr>\n",
       "      <th>0</th>\n",
       "      <td>42.7</td>\n",
       "      <td>34.5</td>\n",
       "      <td>51.5</td>\n",
       "      <td>29.6</td>\n",
       "      <td>24.2</td>\n",
       "      <td>35.4</td>\n",
       "      <td>15.4</td>\n",
       "      <td>11.8</td>\n",
       "      <td>19.2</td>\n",
       "    </tr>\n",
       "  </tbody>\n",
       "</table>\n",
       "</div>"
      ],
      "text/plain": [
       "     전체   남학생   여학생  전체.1  남학생.1  여학생.1  전체.2  남학생.2  여학생.2\n",
       "0  42.7  34.5  51.5  29.6   24.2   35.4  15.4   11.8   19.2"
      ]
     },
     "execution_count": 15,
     "metadata": {},
     "output_type": "execute_result"
    }
   ],
   "source": [
    "import pandas as pd\n",
    "import warnings \n",
    "warnings.simplefilter(\"ignore\")\n",
    "\n",
    "pd.read_excel(\"./data/teenage_mental.xls\", header=1, usecols='C:K')"
   ]
  },
  {
   "cell_type": "code",
   "execution_count": 67,
   "id": "e4e26a5e",
   "metadata": {},
   "outputs": [
    {
     "data": {
      "text/html": [
       "<div>\n",
       "<style scoped>\n",
       "    .dataframe tbody tr th:only-of-type {\n",
       "        vertical-align: middle;\n",
       "    }\n",
       "\n",
       "    .dataframe tbody tr th {\n",
       "        vertical-align: top;\n",
       "    }\n",
       "\n",
       "    .dataframe thead th {\n",
       "        text-align: right;\n",
       "    }\n",
       "</style>\n",
       "<table border=\"1\" class=\"dataframe\">\n",
       "  <thead>\n",
       "    <tr style=\"text-align: right;\">\n",
       "      <th></th>\n",
       "      <th>스트레스</th>\n",
       "      <th>스트레스남학생</th>\n",
       "      <th>스트레스여학생</th>\n",
       "      <th>우울감경험률</th>\n",
       "      <th>우울남학생</th>\n",
       "      <th>우울여학생</th>\n",
       "      <th>자살생각율</th>\n",
       "      <th>자살남학생</th>\n",
       "      <th>자살여학생</th>\n",
       "    </tr>\n",
       "    <tr>\n",
       "      <th>응답</th>\n",
       "      <th></th>\n",
       "      <th></th>\n",
       "      <th></th>\n",
       "      <th></th>\n",
       "      <th></th>\n",
       "      <th></th>\n",
       "      <th></th>\n",
       "      <th></th>\n",
       "      <th></th>\n",
       "    </tr>\n",
       "  </thead>\n",
       "  <tbody>\n",
       "    <tr>\n",
       "      <th>그렇다</th>\n",
       "      <td>42.7</td>\n",
       "      <td>34.5</td>\n",
       "      <td>51.5</td>\n",
       "      <td>29.6</td>\n",
       "      <td>24.2</td>\n",
       "      <td>35.4</td>\n",
       "      <td>15.4</td>\n",
       "      <td>11.8</td>\n",
       "      <td>19.2</td>\n",
       "    </tr>\n",
       "    <tr>\n",
       "      <th>아니다</th>\n",
       "      <td>57.3</td>\n",
       "      <td>65.5</td>\n",
       "      <td>48.5</td>\n",
       "      <td>70.4</td>\n",
       "      <td>75.8</td>\n",
       "      <td>64.6</td>\n",
       "      <td>84.6</td>\n",
       "      <td>88.2</td>\n",
       "      <td>80.8</td>\n",
       "    </tr>\n",
       "  </tbody>\n",
       "</table>\n",
       "</div>"
      ],
      "text/plain": [
       "     스트레스  스트레스남학생  스트레스여학생  우울감경험률  우울남학생  우울여학생  자살생각율  자살남학생  자살여학생\n",
       "응답                                                                    \n",
       "그렇다  42.7     34.5     51.5    29.6   24.2   35.4   15.4   11.8   19.2\n",
       "아니다  57.3     65.5     48.5    70.4   75.8   64.6   84.6   88.2   80.8"
      ]
     },
     "execution_count": 67,
     "metadata": {},
     "output_type": "execute_result"
    }
   ],
   "source": [
    "col_names = ['스트레스', '스트레스남학생', '스트레스여학생', '우울감경험률', '우울남학생', '우울여학생', \n",
    "             '자살생각율', '자살남학생', '자살여학생']\n",
    "\n",
    "raw_data = pd.read_excel(\"./data/teenage_mental.xls\", header=1, usecols='C:K', names=col_names)\n",
    "raw_data.loc[1] = 100 - raw_data.loc[0]\n",
    "\n",
    "raw_data['응답'] = ['그렇다', '아니다']\n",
    "raw_data.set_index('응답', drop=True, inplace=True)\n",
    "raw_data"
   ]
  },
  {
   "cell_type": "code",
   "execution_count": 12,
   "id": "475390ed",
   "metadata": {},
   "outputs": [
    {
     "data": {
      "text/html": [
       "<div>\n",
       "<style scoped>\n",
       "    .dataframe tbody tr th:only-of-type {\n",
       "        vertical-align: middle;\n",
       "    }\n",
       "\n",
       "    .dataframe tbody tr th {\n",
       "        vertical-align: top;\n",
       "    }\n",
       "\n",
       "    .dataframe thead th {\n",
       "        text-align: right;\n",
       "    }\n",
       "</style>\n",
       "<table border=\"1\" class=\"dataframe\">\n",
       "  <thead>\n",
       "    <tr style=\"text-align: right;\">\n",
       "      <th></th>\n",
       "      <th>학생별(1)</th>\n",
       "      <th>스트레스 인지율</th>\n",
       "      <th>우울감 경험률</th>\n",
       "      <th>자살 생각률</th>\n",
       "      <th>스트레스 인지율.1</th>\n",
       "      <th>우울감 경험률.1</th>\n",
       "      <th>자살 생각률.1</th>\n",
       "      <th>스트레스 인지율.2</th>\n",
       "      <th>우울감 경험률.2</th>\n",
       "      <th>자살 생각률.2</th>\n",
       "      <th>...</th>\n",
       "      <th>자살 생각률.13</th>\n",
       "      <th>스트레스 인지율.14</th>\n",
       "      <th>우울감 경험률.14</th>\n",
       "      <th>자살 생각률.14</th>\n",
       "      <th>스트레스 인지율.15</th>\n",
       "      <th>우울감 경험률.15</th>\n",
       "      <th>자살 생각률.15</th>\n",
       "      <th>스트레스 인지율.16</th>\n",
       "      <th>우울감 경험률.16</th>\n",
       "      <th>자살 생각률.16</th>\n",
       "    </tr>\n",
       "  </thead>\n",
       "  <tbody>\n",
       "    <tr>\n",
       "      <th>0</th>\n",
       "      <td>전체</td>\n",
       "      <td>46.7</td>\n",
       "      <td>30.3</td>\n",
       "      <td>22.5</td>\n",
       "      <td>47.7</td>\n",
       "      <td>42.5</td>\n",
       "      <td>24.1</td>\n",
       "      <td>48.1</td>\n",
       "      <td>42.8</td>\n",
       "      <td>24.6</td>\n",
       "      <td>...</td>\n",
       "      <td>15.4</td>\n",
       "      <td>41.6</td>\n",
       "      <td>29.5</td>\n",
       "      <td>14.2</td>\n",
       "      <td>35.1</td>\n",
       "      <td>25.4</td>\n",
       "      <td>11.2</td>\n",
       "      <td>39.6</td>\n",
       "      <td>26.8</td>\n",
       "      <td>12.6</td>\n",
       "    </tr>\n",
       "    <tr>\n",
       "      <th>1</th>\n",
       "      <td>남학생</td>\n",
       "      <td>40.5</td>\n",
       "      <td>27.0</td>\n",
       "      <td>17.8</td>\n",
       "      <td>41.7</td>\n",
       "      <td>38.2</td>\n",
       "      <td>19.2</td>\n",
       "      <td>43.2</td>\n",
       "      <td>37.6</td>\n",
       "      <td>20.6</td>\n",
       "      <td>...</td>\n",
       "      <td>11.8</td>\n",
       "      <td>34.0</td>\n",
       "      <td>24.5</td>\n",
       "      <td>10.8</td>\n",
       "      <td>29.8</td>\n",
       "      <td>21.2</td>\n",
       "      <td>8.8</td>\n",
       "      <td>33.7</td>\n",
       "      <td>22.5</td>\n",
       "      <td>10.2</td>\n",
       "    </tr>\n",
       "    <tr>\n",
       "      <th>2</th>\n",
       "      <td>여학생</td>\n",
       "      <td>53.6</td>\n",
       "      <td>33.9</td>\n",
       "      <td>27.7</td>\n",
       "      <td>54.5</td>\n",
       "      <td>47.2</td>\n",
       "      <td>29.5</td>\n",
       "      <td>53.7</td>\n",
       "      <td>48.6</td>\n",
       "      <td>29.0</td>\n",
       "      <td>...</td>\n",
       "      <td>19.2</td>\n",
       "      <td>49.7</td>\n",
       "      <td>34.8</td>\n",
       "      <td>17.9</td>\n",
       "      <td>40.8</td>\n",
       "      <td>29.9</td>\n",
       "      <td>13.8</td>\n",
       "      <td>45.7</td>\n",
       "      <td>31.4</td>\n",
       "      <td>15.2</td>\n",
       "    </tr>\n",
       "  </tbody>\n",
       "</table>\n",
       "<p>3 rows × 52 columns</p>\n",
       "</div>"
      ],
      "text/plain": [
       "  학생별(1)  스트레스 인지율  우울감 경험률  자살 생각률  스트레스 인지율.1  우울감 경험률.1  자살 생각률.1  \\\n",
       "0     전체      46.7     30.3    22.5        47.7       42.5      24.1   \n",
       "1    남학생      40.5     27.0    17.8        41.7       38.2      19.2   \n",
       "2    여학생      53.6     33.9    27.7        54.5       47.2      29.5   \n",
       "\n",
       "   스트레스 인지율.2  우울감 경험률.2  자살 생각률.2  ...  자살 생각률.13  스트레스 인지율.14  우울감 경험률.14  \\\n",
       "0        48.1       42.8      24.6  ...       15.4         41.6        29.5   \n",
       "1        43.2       37.6      20.6  ...       11.8         34.0        24.5   \n",
       "2        53.7       48.6      29.0  ...       19.2         49.7        34.8   \n",
       "\n",
       "   자살 생각률.14  스트레스 인지율.15  우울감 경험률.15  자살 생각률.15  스트레스 인지율.16  우울감 경험률.16  \\\n",
       "0       14.2         35.1        25.4       11.2         39.6        26.8   \n",
       "1       10.8         29.8        21.2        8.8         33.7        22.5   \n",
       "2       17.9         40.8        29.9       13.8         45.7        31.4   \n",
       "\n",
       "   자살 생각률.16  \n",
       "0       12.6  \n",
       "1       10.2  \n",
       "2       15.2  \n",
       "\n",
       "[3 rows x 52 columns]"
      ]
     },
     "execution_count": 12,
     "metadata": {},
     "output_type": "execute_result"
    }
   ],
   "source": [
    "import csv\n",
    "import pandas as pd\n",
    "\n",
    "\"\"\"\n",
    "with open(\"./data/teenage_mental2.csv\") as f:\n",
    "    data = csv.reader(f)\n",
    "    header = next(data)\n",
    "    for row in data:\n",
    "        print(row)\n",
    "\"\"\"\n",
    "\n",
    "pd.read_csv(\"./data/teenage_mental2.csv\", encoding=\"euc-kr\", header=1)"
   ]
  },
  {
   "cell_type": "markdown",
   "id": "898a281a",
   "metadata": {},
   "source": [
    "### 데이터 시각화"
   ]
  },
  {
   "cell_type": "code",
   "execution_count": 25,
   "id": "88bdd0da",
   "metadata": {},
   "outputs": [
    {
     "data": {
      "image/png": "[encoded data removed]",
      "text/plain": [
       "<Figure size 432x288 with 1 Axes>"
      ]
     },
     "metadata": {
      "needs_background": "light"
     },
     "output_type": "display_data"
    }
   ],
   "source": [
    "import matplotlib.pyplot as plt\n",
    "\n",
    "a = [2, 4, 6, 8]\n",
    "plt.plot(a)\n",
    "plt.show()"
   ]
  },
  {
   "cell_type": "code",
   "execution_count": 62,
   "id": "c1fc3ebb",
   "metadata": {},
   "outputs": [
    {
     "name": "stdout",
     "output_type": "stream",
     "text": [
      "HCR Dotum Ext\n",
      "MDotum\n",
      "HCR Dotum\n",
      "HCR Dotum\n",
      "HCR Dotum\n",
      "HCR Dotum Ext\n",
      "MDotum\n",
      "HCR Dotum\n"
     ]
    },
    {
     "data": {
      "image/png": "[encoded data removed]",
      "text/plain": [
       "<Figure size 432x288 with 1 Axes>"
      ]
     },
     "metadata": {
      "needs_background": "light"
     },
     "output_type": "display_data"
    }
   ],
   "source": [
    "import matplotlib.pyplot as plt\n",
    "from matplotlib import font_manager\n",
    "\n",
    "\n",
    "x = [0, 1, 2, 3, 4, 5, 6, 7, 8, 9, 10]\n",
    "y = [0, 1, 2, 3, 4, 5, 4, 3, 2, 1, 0]\n",
    "\n",
    "for font in font_manager.fontManager.ttflist:\n",
    "    #print(font)\n",
    "    if \"Dotum\" in font.name:\n",
    "        print(font.name)\n",
    "        #break\n",
    "\n",
    "plt.plot(x, y)\n",
    "plt.rc('font', family='Batang')  # 바탕체\n",
    "#plt.rc('font', family='HCR Dotum') # 돋움체\n",
    "plt.title(\"선 그래프\")\n",
    "plt.show()"
   ]
  },
  {
   "cell_type": "code",
   "execution_count": 66,
   "id": "8e7802e6",
   "metadata": {},
   "outputs": [
    {
     "data": {
      "image/png": "[encoded data removed]",
      "text/plain": [
       "<Figure size 720x432 with 1 Axes>"
      ]
     },
     "metadata": {
      "needs_background": "light"
     },
     "output_type": "display_data"
    }
   ],
   "source": [
    "import numpy as np\n",
    "import matplotlib.pyplot as plt\n",
    "\n",
    "t = np.arange(0, 2*np.pi, 0.01)\n",
    "\n",
    "plt.figure(figsize=(10, 6))\n",
    "plt.plot(t, np.sin(t))\n",
    "plt.grid()\n",
    "plt.rc('font', family='Malgun Gothic')\n",
    "plt.title(\"사인 곡선\")\n",
    "plt.xlabel('sec')\n",
    "plt.ylabel('sin')\n",
    "plt.show()"
   ]
  },
  {
   "cell_type": "code",
   "execution_count": 81,
   "id": "af5fac70",
   "metadata": {},
   "outputs": [
    {
     "data": {
      "text/plain": [
       "<AxesSubplot:ylabel='스트레스'>"
      ]
     },
     "execution_count": 81,
     "metadata": {},
     "output_type": "execute_result"
    },
    {
     "data": {
      "image/png": "[encoded data removed]",
      "text/plain": [
       "<Figure size 1152x576 with 2 Axes>"
      ]
     },
     "metadata": {
      "needs_background": "light"
     },
     "output_type": "display_data"
    }
   ],
   "source": [
    "import csv\n",
    "import matplotlib.pyplot as plt\n",
    "\n",
    "col_names = ['스트레스', '스트레스남학생', '스트레스여학생', '우울감경험률', '우울남학생', '우울여학생', \n",
    "             '자살생각율', '자살남학생', '자살여학생']\n",
    "\n",
    "raw_data = pd.read_excel(\"./data/teenage_mental.xls\", header=1, usecols='C:K', names=col_names)\n",
    "raw_data.loc[1] = 100 - raw_data.loc[0]\n",
    "\n",
    "raw_data['응답'] = ['그렇다', '아니다']\n",
    "raw_data.set_index('응답', drop=True, inplace=True)\n",
    "raw_data\n",
    "\n",
    "# 파이 그래프\n",
    "f, ax = plt.subplots(1, 2, figsize=(16, 8))\n",
    "raw_data['스트레스'].plot.pie(ax=ax[0], autopct='%.1f%%', startangle=90)"
   ]
  },
  {
   "cell_type": "code",
   "execution_count": null,
   "id": "73dcdad2",
   "metadata": {},
   "outputs": [],
   "source": []
  }
 ],
 "metadata": {
  "kernelspec": {
   "display_name": "Python 3 (ipykernel)",
   "language": "python",
   "name": "python3"
  },
  "language_info": {
   "codemirror_mode": {
    "name": "ipython",
    "version": 3
   },
   "file_extension": ".py",
   "mimetype": "text/x-python",
   "name": "python",
   "nbconvert_exporter": "python",
   "pygments_lexer": "ipython3",
   "version": "3.9.7"
  }
 },
 "nbformat": 4,
 "nbformat_minor": 5
}
