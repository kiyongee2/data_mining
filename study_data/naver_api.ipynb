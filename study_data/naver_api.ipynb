{
 "cells": [
  {
   "cell_type": "markdown",
   "id": "11146d3f",
   "metadata": {},
   "source": [
    "## 네이버 API 사용해 보기\n",
    "### 네이버 개발자 센터 > 애플리케이션"
   ]
  },
  {
   "cell_type": "code",
   "execution_count": null,
   "id": "60147afc",
   "metadata": {},
   "outputs": [],
   "source": [
    "import urllib.request\n",
    "\n",
    "client_id = \"ZpzF1rgmkgVK5icVR9Ou\"\n",
    "client_secret = \"VmiMCmgoip\""
   ]
  },
  {
   "cell_type": "markdown",
   "id": "8305256e",
   "metadata": {},
   "source": [
    "### 네이버 블로그 검색\n",
    "#### https://openapi.naver.com/v1/search/blog.json"
   ]
  },
  {
   "cell_type": "code",
   "execution_count": 18,
   "id": "c68a70ec",
   "metadata": {},
   "outputs": [],
   "source": [
    "encText = urllib.parse.quote(\"pinkwink\")\n",
    "url = \"https://openapi.naver.com/v1/search/blog.json?query=\" + encText"
   ]
  },
  {
   "cell_type": "code",
   "execution_count": 19,
   "id": "9fe7fe36",
   "metadata": {},
   "outputs": [],
   "source": [
    "request = urllib.request.Request(url)\n",
    "request.add_header(\"X-Naver-Client-Id\", client_id)\n",
    "request.add_header(\"X-Naver-Client-Secret\", client_secret)"
   ]
  },
  {
   "cell_type": "code",
   "execution_count": 20,
   "id": "041d6c57",
   "metadata": {},
   "outputs": [
    {
     "data": {
      "text/plain": [
       "200"
      ]
     },
     "execution_count": 20,
     "metadata": {},
     "output_type": "execute_result"
    }
   ],
   "source": [
    "response = urllib.request.urlopen(request)\n",
    "response.getcode()"
   ]
  },
  {
   "cell_type": "code",
   "execution_count": 12,
   "id": "e60ce4e1",
   "metadata": {},
   "outputs": [
    {
     "data": {
      "text/plain": [
       "http.client.HTTPResponse"
      ]
     },
     "execution_count": 12,
     "metadata": {},
     "output_type": "execute_result"
    }
   ],
   "source": [
    "type(response)"
   ]
  },
  {
   "cell_type": "code",
   "execution_count": 21,
   "id": "4a6dd6a2",
   "metadata": {},
   "outputs": [
    {
     "data": {
      "text/plain": [
       "'{\\n\\t\"lastBuildDate\":\"Tue, 17 Jan 2023 07:20:45 +0900\",\\n\\t\"total\":736,\\n\\t\"start\":1,\\n\\t\"display\":10,\\n\\t\"items\":[\\n\\t\\t{\\n\\t\\t\\t\"title\":\"핑크윙크 <b>PinkWink<\\\\/b>가 핑크랩 PinkLAB을 만들었습니다.\",\\n\\t\\t\\t\"link\":\"https:\\\\/\\\\/pinkwink.kr\\\\/1386\",\\n\\t\\t\\t\"description\":\"당시 강의에 대한 감상은 &quot;<b>PinkWink<\\\\/b>가 토요일마다 강의를 합니다.&quot;라는 글로 한참 후인 2019년에... 그래서 오늘은 저 <b>PinkWink<\\\\/b>가 설립한 PinkLAB을 간단히 소개하려고 합니다. PinkLAB 홈페이지 - https:\\\\/\\\\/www.pinklab.art... \",\\n\\t\\t\\t\"bloggername\":\"PinkWink\",\\n\\t\\t\\t\"bloggerlink\":\"https:\\\\/\\\\/pinkwink.kr\\\\/\",\\n\\t\\t\\t\"postdate\":\"20220606\"\\n\\t\\t},\\n\\t\\t{\\n\\t\\t\\t\"title\":\"<b>PinkWink<\\\\/b> darknet_ros, jetpack4.5.1에서 빌드 실패\",\\n\\t\\t\\t\"link\":\"https:\\\\/\\\\/blog.naver.com\\\\/zeta0807\\\\/222461538224\",\\n\\t\\t\\t\"description\":\"site\\\\/BLDC-fbd4f8bd75424563b074d8adb3c858fa https:\\\\/\\\\/<b>pinkwink<\\\\/b>.kr\\\\/1342을 참고하면 Jetson Nano... darknet_ros 다운로드 아래 명령어로 <b>PinkWink<\\\\/b> darknet_ros를 내려받았다. git clone... \",\\n\\t\\t\\t\"bloggername\":\"제타의 AIoT 나들이\",\\n\\t\\t\\t\"bloggerlink\":\"blog.naver.com\\\\/zeta0807\",\\n\\t\\t\\t\"postdate\":\"20210808\"\\n\\t\\t},\\n\\t\\t{\\n\\t\\t\\t\"title\":\"<b>PinkWink<\\\\/b> 블로그에서 온 선물..\",\\n\\t\\t\\t\"link\":\"https:\\\\/\\\\/blog.naver.com\\\\/chandong83\\\\/221531853244\",\\n\\t\\t\\t\"description\":\"국내 최고 아이티 블로그인 <b>PinkWink<\\\\/b> 블로거이신 민형기 박사님께서 선물을 보내주셨다~ 크.. 이런 영광이!!!! 잘 쓰겠습니다~ 박사님!!! 나도 나중에 블로그 잘 운영해서 이런 선물도 나눠줘 보고 싶다~~ㅋ 요즘... \",\\n\\t\\t\\t\"bloggername\":\"하이! 제니스\",\\n\\t\\t\\t\"bloggerlink\":\"blog.naver.com\\\\/chandong83\",\\n\\t\\t\\t\"postdate\":\"20190507\"\\n\\t\\t},\\n\\t\\t{\\n\\t\\t\\t\"title\":\"<b>PinkWink<\\\\/b>님의 DC모터 시정수 구하기.\",\\n\\t\\t\\t\"link\":\"https:\\\\/\\\\/blog.naver.com\\\\/hjh2578\\\\/222172280836\",\\n\\t\\t\\t\"description\":\"현재 밸런싱 봇 제작에 난항을 겪고 있어 해당 시정수를 측정하기 위한 방법을 구글링 해두었음 https:\\\\/\\\\/<b>pinkwink<\\\\/b>.kr\\\\/336 현재 갖고 있는 밸런싱봇에는 MCP4922라는 DA컨버터를 별도로 설계하여... \",\\n\\t\\t\\t\"bloggername\":\"닥현의 회로연구\",\\n\\t\\t\\t\"bloggerlink\":\"blog.naver.com\\\\/hjh2578\",\\n\\t\\t\\t\"postdate\":\"20201213\"\\n\\t\\t},\\n\\t\\t{\\n\\t\\t\\t\"title\":\"<b>PinkWink<\\\\/b>가 좋아하는 전자기기들을 소개합니다 ~~ ^^\",\\n\\t\\t\\t\"link\":\"https:\\\\/\\\\/pinkwink.tistory.com\\\\/701\",\\n\\t\\t\\t\"description\":\"그리고 저 <b>PinkWink<\\\\/b>도 이제 마흔이 되었답니다.ㅠㅠ. 에휴.. 마흔... 뭐 한국 나이는 두 종류이고.. 아직... 저 <b>PinkWink<\\\\/b>가 2012년 가을에 결혼을 했었는데요..[바로가기] 늦은 결혼이었지요^^ 그때 저는 신혼여행에서... \",\\n\\t\\t\\t\"bloggername\":\"PinkWink\",\\n\\t\\t\\t\"bloggerlink\":\"https:\\\\/\\\\/pinkwink.tistory.com\\\\/\",\\n\\t\\t\\t\"postdate\":\"20150612\"\\n\\t\\t},\\n\\t\\t{\\n\\t\\t\\t\"title\":\"자료 주소, <b>PinkWink<\\\\/b>, DataScience; 시카고 샌드위치 맛집 주소\",\\n\\t\\t\\t\"link\":\"https:\\\\/\\\\/blog.naver.com\\\\/doitnow-company\\\\/222090851064\",\\n\\t\\t\\t\"description\":\"책(파이썬으로 데이터 주무르기) 내용 자료 주소, <b>PinkWink<\\\\/b>, DataScience #3장 #시카고 #샌드위치 #맛집 #분석 #주소 - 교재 발간당시와 현재의 웹페이지가 바뀌어서, 교재에... \",\\n\\t\\t\\t\"bloggername\":\"날마다 성장하는 즐거움\",\\n\\t\\t\\t\"bloggerlink\":\"blog.naver.com\\\\/doitnow-company\",\\n\\t\\t\\t\"postdate\":\"20200916\"\\n\\t\\t},\\n\\t\\t{\\n\\t\\t\\t\"title\":\"[공유] <b>PinkWink<\\\\/b> :: 저역통과필터와 고역통과필터를 C로 구현\",\\n\\t\\t\\t\"link\":\"https:\\\\/\\\\/blog.naver.com\\\\/kangusreport\\\\/221870399107\",\\n\\t\\t\\t\"description\":\"<b>PinkWink<\\\\/b> :: 저역통과필터와 고역통과필터를 C로 구현\",\\n\\t\\t\\t\"bloggername\":\"Dex Note\",\\n\\t\\t\\t\"bloggerlink\":\"blog.naver.com\\\\/kangusreport\",\\n\\t\\t\\t\"postdate\":\"20200324\"\\n\\t\\t},\\n\\t\\t{\\n\\t\\t\\t\"title\":\"[공유] <b>PinkWink<\\\\/b> :: Python에서 OpenCV를 이용해서... \",\\n\\t\\t\\t\"link\":\"https:\\\\/\\\\/blog.naver.com\\\\/hersheythings\\\\/222221161855\",\\n\\t\\t\\t\"description\":\"<b>PinkWink<\\\\/b> :: Python에서 OpenCV를 이용해서 초간편하게 사람 얼굴, 몸을 인식하기\",\\n\\t\\t\\t\"bloggername\":\"Capital and Freedom\",\\n\\t\\t\\t\"bloggerlink\":\"blog.naver.com\\\\/hersheythings\",\\n\\t\\t\\t\"postdate\":\"20210127\"\\n\\t\\t},\\n\\t\\t{\\n\\t\\t\\t\"title\":\"<b>PinkWink<\\\\/b>님의 미바뤼 돌촬영 후기 :)\",\\n\\t\\t\\t\"link\":\"https:\\\\/\\\\/blog.naver.com\\\\/creta01\\\\/220191244266\",\\n\\t\\t\\t\"description\":\"원본출처 : <b>PinkWink<\\\\/b>님 블로그 :) http:\\\\/\\\\/<b>pinkwink<\\\\/b>.kr\\\\/678\",\\n\\t\\t\\t\"bloggername\":\"A moment in life\",\\n\\t\\t\\t\"bloggerlink\":\"blog.naver.com\\\\/creta01\",\\n\\t\\t\\t\"postdate\":\"20141125\"\\n\\t\\t},\\n\\t\\t{\\n\\t\\t\\t\"title\":\"http:\\\\/\\\\/<b>pinkwink<\\\\/b>.kr\\\\/218\",\\n\\t\\t\\t\"link\":\"https:\\\\/\\\\/blog.naver.com\\\\/2danzee\\\\/220548423642\",\\n\\t\\t\\t\"description\":\"http:\\\\/\\\\/<b>pinkwink<\\\\/b>.kr\\\\/218\",\\n\\t\\t\\t\"bloggername\":\"2danzee님의블로그\",\\n\\t\\t\\t\"bloggerlink\":\"blog.naver.com\\\\/2danzee\",\\n\\t\\t\\t\"postdate\":\"20151124\"\\n\\t\\t}\\n\\t]\\n}'"
      ]
     },
     "execution_count": 21,
     "metadata": {},
     "output_type": "execute_result"
    }
   ],
   "source": [
    "response.read().decode('utf-8')"
   ]
  },
  {
   "cell_type": "markdown",
   "id": "cfb7a836",
   "metadata": {},
   "source": [
    "### 네이버 책 검색\n",
    "#### https://openapi.naver.com/v1/search/book.json"
   ]
  },
  {
   "cell_type": "code",
   "execution_count": 4,
   "id": "c7cda286",
   "metadata": {},
   "outputs": [],
   "source": [
    "import urllib.request\n",
    "\n",
    "def create_url(api_node, search_text, start_num, disp_num):\n",
    "    base = \"https://openapi.naver.com/v1/search\"\n",
    "    node = \"/\" + api_node + \".json\"\n",
    "    param_query = \"?query=\" + urllib.parse.quote(search_text)\n",
    "    param_start = \"&start=\" + str(start_num)\n",
    "    param_disp = \"&display=\" + str(disp_num)\n",
    "    \n",
    "    return base + node + param_query + param_start + param_disp"
   ]
  },
  {
   "cell_type": "code",
   "execution_count": 5,
   "id": "ba23a488",
   "metadata": {},
   "outputs": [
    {
     "data": {
      "text/plain": [
       "'https://openapi.naver.com/v1/search/book.json?query=TEST&start=1&display=10'"
      ]
     },
     "execution_count": 5,
     "metadata": {},
     "output_type": "execute_result"
    }
   ],
   "source": [
    "create_url(\"book\", \"TEST\", 1, 10)"
   ]
  },
  {
   "cell_type": "code",
   "execution_count": 24,
   "id": "734a7d83",
   "metadata": {},
   "outputs": [
    {
     "name": "stdout",
     "output_type": "stream",
     "text": [
      "{'lastBuildDate': 'Wed, 18 Jan 2023 06:04:51 +0900', 'total': 821, 'start': 1, 'display': 5, 'items': [{'title': '혼자 공부하는 파이썬 (1:1 과외하듯 배우는 프로그래밍 자습서)', 'link': 'https://search.shopping.naver.com/book/catalog/32507605957', 'image': 'https://shopping-phinf.pstatic.net/main_3250760/32507605957.20221019133018.jpg', 'author': '윤인성', 'discount': '19800', 'publisher': '한빛미디어', 'pubdate': '20220601', 'isbn': '9791162245651', 'description': '『혼자 공부하는 파이썬』이 더욱 흥미있고 알찬 내용으로 개정되었습니다. 프로그래밍이 정말 처음인 입문자도 따라갈 수 있는 친절한 설명과 단계별 학습은 그대로! 혼자 공부하더라도 체계적으로 계획을 세워 학습할 수 있도록 ‘혼공 계획표’를 새롭게 추가했습니다. 또한 입문자가 자주 물어보는 질문과 오류 해결 방법을 적재적소에 배치하여 예상치 못한 문제에 부딪혀도 좌절하지 않고 끝까지 완독할 수 있도록 도와줍니다. 단순한 문법 암기와 코딩 따라하기에 지쳤다면, 새로운 혼공파와 함께 ‘누적 예제’와 ‘도전 문제’로 프로그래밍의 신세계를 경험해 보세요! 배운 내용을 씹고 뜯고 맛보고 즐기다 보면 응용력은 물론 알고리즘 사고력까지 키워 코딩 실력이 쑥쑥 성장할 것입니다.\\n\\n혼자 해도 충분하다! 1:1 과외하듯 배우는 파이썬 프로그래밍 자습서\\n이 책은 독학으로 파이썬을 배우는 입문자가 ‘꼭 필요한 내용을 제대로 학습’할 수 있도록 구성했습니다. 뭘 모르는지조차 모르는 입문자의 막연한 마음에 십분 공감하여 과외 선생님이 알려주듯 친절하게, 핵심적인 내용만 콕콕 집어줍니다. 책의 첫 페이지를 펼쳐서 마지막 페이지를 덮을 때까지, 혼자서도 충분히 파이썬을 배울 수 있다는 자신감과 확신이 계속될 것입니다!\\n\\n베타리더 검증으로, ‘함께 만든’ 입문자 맞춤형 도서\\n베타리더와 함께 입문자에게 맞는 난이도, 분량, 학습 요소 등을 적극 반영했습니다. 어려운 용어와 개념은 한 번 더 풀어쓰고, 복잡한 설명은 눈에 잘 들어오는 그림으로 풀어냈습니다. ‘혼자 공부해 본’ 여러 입문자의 초심과 눈높이가 책 곳곳에 반영된 것이 이 책의 가장 큰 장점입니다.'}, {'title': '파이썬과 40개의 작품들 (자동화, 크롤링, 이미지처리, 데이터분석, 웹페이지, GUI 프로그램, 게임)', 'link': 'https://search.shopping.naver.com/book/catalog/32472041705', 'image': 'https://shopping-phinf.pstatic.net/main_3247204/32472041705.20221019105332.jpg', 'author': '장문철', 'discount': '16920', 'publisher': '앤써북', 'pubdate': '20220228', 'isbn': '9791185553931', 'description': '이 책은 내 업무와 생활에 바로 적용할 수 있는 40개의 프로그램을 직접 코딩해서 만들어보고, 동시에 파이썬을 자연스럽게 이해할 수 있게 구성하였다!\\n\\n파이썬 기초 문법 떼고 자동화, 크롤링, 이미지처리, 데이터분석, 웹페이지, GUI 프로그램, 게임, 인공지능 관련 40개 프로그램 직접 파이썬 코딩하며 만들어 본다.  \\n\\n이 책은 파이썬 기초 문법을 익힌 후 총 40개의 주제별 프로그램을 직접 코딩하며 만들어볼 수 있도록 구성하였다.'}, {'title': 'Do it! 알고리즘 코딩 테스트: 파이썬 편 (코딩 테스트를 처음 준비하는 취준생의 필독서!)', 'link': 'https://search.shopping.naver.com/book/catalog/33938438618', 'image': 'https://shopping-phinf.pstatic.net/main_3393843/33938438618.20230117163208.jpg', 'author': '김종관', 'discount': '28800', 'publisher': '이지스퍼블리싱', 'pubdate': '20220816', 'isbn': '9791163033936', 'description': '기출 유형 분석부터 문제 풀이 비법까지\\n코딩 테스트를 처음 준비하는 IT 기업 취준생의 필독서!\\n\\n“코딩 테스트를 제대로 준비하려면 어떤 문제를 얼마나 풀어야 할까?” 곧 코딩 테스트를 앞둔 취업 또는 이직 준비생이라면 누구나 이런 고민을 할 것이다. 《Do it! 알고리즘 코딩 테스트 - 파이썬 편》에 그 답이 있다. 네이버, 카카오, 삼성, 라인 등 주요 IT 기업의 시험에 나오는 알고리즘 내용이 모두 담겨 있어 책 한 권만으로 코딩 테스트 합격에 필요한 지식을 충분히 공부할 수 있다. 책에 수록된 알고리즘 문제 100개는 모두 최신 기출 유형을 반영하고 있어서 이 책의 문제만 다 풀면 당장 코딩 테스트를 볼 수 있는 수준까지 실력을 갖출 수 있다. 모든 문제는 ‘분석, 전략, 슈도코드, 코드 구현’까지 총 4단계를 거쳐 푸는데, 이렇게 문제를 푸는 습관까지 자기 것으로 만든다면 진짜 시험에서 어떤 문제를 만나든 실수 없이 해결할 수 있을 것이다.'}, {'title': '모두의 파이썬 (20일 만에 배우는 프로그래밍 기초)', 'link': 'https://search.shopping.naver.com/book/catalog/32463987904', 'image': 'https://shopping-phinf.pstatic.net/main_3246398/32463987904.20221019110729.jpg', 'author': '이승찬', 'discount': '10800', 'publisher': '길벗', 'pubdate': '20181009', 'isbn': '9791160505856', 'description': '파이썬 분야 & 어린이 코딩 교육 분야\\n2년 연속 베스트셀러! 개정판 출간!\\n\\n즐겁게 시작하는 나의 첫 프로그래밍!\\n프로그래밍을 한 번도 해본 적이 없어도 괜찮다. 파이썬이 무엇인지 몰라도 상관 없다. 어려운 개념과 복잡한 이론 설명은 최대한 줄이고, 초보자가 프로그래밍을 쉽게 배울 수 있도록 짧고 간단한 예제로 내용을 구성했다. 처음부터 모든 것을 다 이해하지 못해도 괜찮다. 프로그램을 따라서 입력하고, 실행 결과를 확인하며, 책에서 알려주는 대로 에러를 수정해 보자. 어느새 파이썬 프로그램으로 멋진 그림을 그리고, 계산을 하고, 간단한 게임을 만들고, 수학 문제를 푸는 자신을 발견하게 될 것이다. \\n\\n* 《모두의 파이썬, 개정 2판》에서는 파이썬 최신 버전을 반영하였으며, Day 19 ‘파이썬으로 수학 문제 풀기 1’의 내용을 중학 수학 2015 개정교육과정에 맞춰 수정 및 보완하였습니다. 나머지 내용은 초판과 동일합니다.'}, {'title': '파이썬 무작정 따라하기 (미래의 프로그래머를 위한)', 'link': 'https://search.shopping.naver.com/book/catalog/32439274496', 'image': 'https://shopping-phinf.pstatic.net/main_3243927/32439274496.20221019132155.jpg', 'author': '서승희^송석리', 'discount': '12600', 'publisher': '길벗', 'pubdate': '20211220', 'isbn': '9791165217891', 'description': '초등학생을 위한 파이썬 교재\\n첫 코딩을 쉽고 재밌게!\\n\\n이 책은 초등학생부터 청소년까지 쉽고 체계적으로 파이썬 코딩을 배울 수 있는 책입니다. 데이터, 조건문, 변수, 반복문, 함수, 라이브러리 등 개념 이해부터, 코드 실습, 연습 문제 3단계 구성으로 차근차근 따라 할 수 있도록 안내합니다. 기본 개념을 배운 후에는 터틀 그래픽으로 그림을 그려보고, 마지막으로는 ‘불꽃을 발사해서 몹을 물리치는’ 게임을 직접 만들어 봅니다. 블록 코딩을 끝낸 뒤 텍스트 코딩을 본격적으로 배우고 싶다면 이 책으로 시작해 보세요!\\n\\n파이썬 설치부터 활용 방법, 기본 개념을 꼼꼼하게 자세하게 알려줘요!\\n파이썬은 무엇이며 어떻게 사용하는지 차근차근 알아봅니다. 현직 교사가 집필하여 아이들의 눈높이에서 개념 설명부터 코드 실습, 연습 문제까지 단계별로 짚어줍니다. 아이들이 좋아하는 캐릭터와 판타지 스토리텔링을 따라가다 보면 데이터, 조건문, 반복문, 변수 같은 파이썬 기본 개념과 자연스레 친해질 수 있습니다.\\n \\n배운 내용을 응용하고 발전시켜 봐요!\\n앞에서 배운 기본 문법을 응용하여 코딩 문제를 풀어 보고 터틀 라이브러리를 사용해서 멋진 마법진도 그려 봅니다. 딕셔너리, 리스트 등 심화된 내용도 차근차근 따라 한다면 어렵지 않아요!\\n \\n나만의 파이썬 게임을 만들어 봐요!\\n파이게임 라이브러리를 사용하여 나만의 게임을 만들어 봅니다. 캐릭터 상하좌우 이동부터 투명 마법, 몹 등장, 불꽃 공격, 소리 효과 등 게임 제작의 기본적인 과정을 재밌게 실습해 봅니다. \\n \\n 누구를 위한 책인가요?\\n- 블록 코딩을 배우고 처음으로 텍스트 코딩을 배우려는 초등 5~6학년, 중등 1~2학년\\n- 코딩을 쉽게 배우고 싶은 모든 사람'}]}\n"
     ]
    }
   ],
   "source": [
    "import json\n",
    "\n",
    "client_id = \"ZpzF1rgmkgVK5icVR9Ou\"\n",
    "client_secret = \"VmiMCmgoip\"\n",
    "\n",
    "url = create_url(\"book\", \"파이썬\", 1, 5)\n",
    "\n",
    "# 요청\n",
    "request = urllib.request.Request(url)\n",
    "request.add_header(\"X-Naver-Client-Id\", client_id)\n",
    "request.add_header(\"X-Naver-Client-Secret\", client_secret)\n",
    "# 응답\n",
    "response = urllib.request.urlopen(request)\n",
    "result = json.loads(response.read().decode('utf-8'))\n",
    "print(result)"
   ]
  },
  {
   "cell_type": "code",
   "execution_count": 26,
   "id": "fcc3176d",
   "metadata": {},
   "outputs": [
    {
     "data": {
      "text/plain": [
       "5"
      ]
     },
     "execution_count": 26,
     "metadata": {},
     "output_type": "execute_result"
    }
   ],
   "source": [
    "result['display']"
   ]
  },
  {
   "cell_type": "code",
   "execution_count": 27,
   "id": "52ff4a94",
   "metadata": {},
   "outputs": [
    {
     "data": {
      "text/plain": [
       "[{'title': '혼자 공부하는 파이썬 (1:1 과외하듯 배우는 프로그래밍 자습서)',\n",
       "  'link': 'https://search.shopping.naver.com/book/catalog/32507605957',\n",
       "  'image': 'https://shopping-phinf.pstatic.net/main_3250760/32507605957.20221019133018.jpg',\n",
       "  'author': '윤인성',\n",
       "  'discount': '19800',\n",
       "  'publisher': '한빛미디어',\n",
       "  'pubdate': '20220601',\n",
       "  'isbn': '9791162245651',\n",
       "  'description': '『혼자 공부하는 파이썬』이 더욱 흥미있고 알찬 내용으로 개정되었습니다. 프로그래밍이 정말 처음인 입문자도 따라갈 수 있는 친절한 설명과 단계별 학습은 그대로! 혼자 공부하더라도 체계적으로 계획을 세워 학습할 수 있도록 ‘혼공 계획표’를 새롭게 추가했습니다. 또한 입문자가 자주 물어보는 질문과 오류 해결 방법을 적재적소에 배치하여 예상치 못한 문제에 부딪혀도 좌절하지 않고 끝까지 완독할 수 있도록 도와줍니다. 단순한 문법 암기와 코딩 따라하기에 지쳤다면, 새로운 혼공파와 함께 ‘누적 예제’와 ‘도전 문제’로 프로그래밍의 신세계를 경험해 보세요! 배운 내용을 씹고 뜯고 맛보고 즐기다 보면 응용력은 물론 알고리즘 사고력까지 키워 코딩 실력이 쑥쑥 성장할 것입니다.\\n\\n혼자 해도 충분하다! 1:1 과외하듯 배우는 파이썬 프로그래밍 자습서\\n이 책은 독학으로 파이썬을 배우는 입문자가 ‘꼭 필요한 내용을 제대로 학습’할 수 있도록 구성했습니다. 뭘 모르는지조차 모르는 입문자의 막연한 마음에 십분 공감하여 과외 선생님이 알려주듯 친절하게, 핵심적인 내용만 콕콕 집어줍니다. 책의 첫 페이지를 펼쳐서 마지막 페이지를 덮을 때까지, 혼자서도 충분히 파이썬을 배울 수 있다는 자신감과 확신이 계속될 것입니다!\\n\\n베타리더 검증으로, ‘함께 만든’ 입문자 맞춤형 도서\\n베타리더와 함께 입문자에게 맞는 난이도, 분량, 학습 요소 등을 적극 반영했습니다. 어려운 용어와 개념은 한 번 더 풀어쓰고, 복잡한 설명은 눈에 잘 들어오는 그림으로 풀어냈습니다. ‘혼자 공부해 본’ 여러 입문자의 초심과 눈높이가 책 곳곳에 반영된 것이 이 책의 가장 큰 장점입니다.'},\n",
       " {'title': '파이썬과 40개의 작품들 (자동화, 크롤링, 이미지처리, 데이터분석, 웹페이지, GUI 프로그램, 게임)',\n",
       "  'link': 'https://search.shopping.naver.com/book/catalog/32472041705',\n",
       "  'image': 'https://shopping-phinf.pstatic.net/main_3247204/32472041705.20221019105332.jpg',\n",
       "  'author': '장문철',\n",
       "  'discount': '16920',\n",
       "  'publisher': '앤써북',\n",
       "  'pubdate': '20220228',\n",
       "  'isbn': '9791185553931',\n",
       "  'description': '이 책은 내 업무와 생활에 바로 적용할 수 있는 40개의 프로그램을 직접 코딩해서 만들어보고, 동시에 파이썬을 자연스럽게 이해할 수 있게 구성하였다!\\n\\n파이썬 기초 문법 떼고 자동화, 크롤링, 이미지처리, 데이터분석, 웹페이지, GUI 프로그램, 게임, 인공지능 관련 40개 프로그램 직접 파이썬 코딩하며 만들어 본다.  \\n\\n이 책은 파이썬 기초 문법을 익힌 후 총 40개의 주제별 프로그램을 직접 코딩하며 만들어볼 수 있도록 구성하였다.'},\n",
       " {'title': 'Do it! 알고리즘 코딩 테스트: 파이썬 편 (코딩 테스트를 처음 준비하는 취준생의 필독서!)',\n",
       "  'link': 'https://search.shopping.naver.com/book/catalog/33938438618',\n",
       "  'image': 'https://shopping-phinf.pstatic.net/main_3393843/33938438618.20230117163208.jpg',\n",
       "  'author': '김종관',\n",
       "  'discount': '28800',\n",
       "  'publisher': '이지스퍼블리싱',\n",
       "  'pubdate': '20220816',\n",
       "  'isbn': '9791163033936',\n",
       "  'description': '기출 유형 분석부터 문제 풀이 비법까지\\n코딩 테스트를 처음 준비하는 IT 기업 취준생의 필독서!\\n\\n“코딩 테스트를 제대로 준비하려면 어떤 문제를 얼마나 풀어야 할까?” 곧 코딩 테스트를 앞둔 취업 또는 이직 준비생이라면 누구나 이런 고민을 할 것이다. 《Do it! 알고리즘 코딩 테스트 - 파이썬 편》에 그 답이 있다. 네이버, 카카오, 삼성, 라인 등 주요 IT 기업의 시험에 나오는 알고리즘 내용이 모두 담겨 있어 책 한 권만으로 코딩 테스트 합격에 필요한 지식을 충분히 공부할 수 있다. 책에 수록된 알고리즘 문제 100개는 모두 최신 기출 유형을 반영하고 있어서 이 책의 문제만 다 풀면 당장 코딩 테스트를 볼 수 있는 수준까지 실력을 갖출 수 있다. 모든 문제는 ‘분석, 전략, 슈도코드, 코드 구현’까지 총 4단계를 거쳐 푸는데, 이렇게 문제를 푸는 습관까지 자기 것으로 만든다면 진짜 시험에서 어떤 문제를 만나든 실수 없이 해결할 수 있을 것이다.'},\n",
       " {'title': '모두의 파이썬 (20일 만에 배우는 프로그래밍 기초)',\n",
       "  'link': 'https://search.shopping.naver.com/book/catalog/32463987904',\n",
       "  'image': 'https://shopping-phinf.pstatic.net/main_3246398/32463987904.20221019110729.jpg',\n",
       "  'author': '이승찬',\n",
       "  'discount': '10800',\n",
       "  'publisher': '길벗',\n",
       "  'pubdate': '20181009',\n",
       "  'isbn': '9791160505856',\n",
       "  'description': '파이썬 분야 & 어린이 코딩 교육 분야\\n2년 연속 베스트셀러! 개정판 출간!\\n\\n즐겁게 시작하는 나의 첫 프로그래밍!\\n프로그래밍을 한 번도 해본 적이 없어도 괜찮다. 파이썬이 무엇인지 몰라도 상관 없다. 어려운 개념과 복잡한 이론 설명은 최대한 줄이고, 초보자가 프로그래밍을 쉽게 배울 수 있도록 짧고 간단한 예제로 내용을 구성했다. 처음부터 모든 것을 다 이해하지 못해도 괜찮다. 프로그램을 따라서 입력하고, 실행 결과를 확인하며, 책에서 알려주는 대로 에러를 수정해 보자. 어느새 파이썬 프로그램으로 멋진 그림을 그리고, 계산을 하고, 간단한 게임을 만들고, 수학 문제를 푸는 자신을 발견하게 될 것이다. \\n\\n* 《모두의 파이썬, 개정 2판》에서는 파이썬 최신 버전을 반영하였으며, Day 19 ‘파이썬으로 수학 문제 풀기 1’의 내용을 중학 수학 2015 개정교육과정에 맞춰 수정 및 보완하였습니다. 나머지 내용은 초판과 동일합니다.'},\n",
       " {'title': '파이썬 무작정 따라하기 (미래의 프로그래머를 위한)',\n",
       "  'link': 'https://search.shopping.naver.com/book/catalog/32439274496',\n",
       "  'image': 'https://shopping-phinf.pstatic.net/main_3243927/32439274496.20221019132155.jpg',\n",
       "  'author': '서승희^송석리',\n",
       "  'discount': '12600',\n",
       "  'publisher': '길벗',\n",
       "  'pubdate': '20211220',\n",
       "  'isbn': '9791165217891',\n",
       "  'description': '초등학생을 위한 파이썬 교재\\n첫 코딩을 쉽고 재밌게!\\n\\n이 책은 초등학생부터 청소년까지 쉽고 체계적으로 파이썬 코딩을 배울 수 있는 책입니다. 데이터, 조건문, 변수, 반복문, 함수, 라이브러리 등 개념 이해부터, 코드 실습, 연습 문제 3단계 구성으로 차근차근 따라 할 수 있도록 안내합니다. 기본 개념을 배운 후에는 터틀 그래픽으로 그림을 그려보고, 마지막으로는 ‘불꽃을 발사해서 몹을 물리치는’ 게임을 직접 만들어 봅니다. 블록 코딩을 끝낸 뒤 텍스트 코딩을 본격적으로 배우고 싶다면 이 책으로 시작해 보세요!\\n\\n파이썬 설치부터 활용 방법, 기본 개념을 꼼꼼하게 자세하게 알려줘요!\\n파이썬은 무엇이며 어떻게 사용하는지 차근차근 알아봅니다. 현직 교사가 집필하여 아이들의 눈높이에서 개념 설명부터 코드 실습, 연습 문제까지 단계별로 짚어줍니다. 아이들이 좋아하는 캐릭터와 판타지 스토리텔링을 따라가다 보면 데이터, 조건문, 반복문, 변수 같은 파이썬 기본 개념과 자연스레 친해질 수 있습니다.\\n \\n배운 내용을 응용하고 발전시켜 봐요!\\n앞에서 배운 기본 문법을 응용하여 코딩 문제를 풀어 보고 터틀 라이브러리를 사용해서 멋진 마법진도 그려 봅니다. 딕셔너리, 리스트 등 심화된 내용도 차근차근 따라 한다면 어렵지 않아요!\\n \\n나만의 파이썬 게임을 만들어 봐요!\\n파이게임 라이브러리를 사용하여 나만의 게임을 만들어 봅니다. 캐릭터 상하좌우 이동부터 투명 마법, 몹 등장, 불꽃 공격, 소리 효과 등 게임 제작의 기본적인 과정을 재밌게 실습해 봅니다. \\n \\n 누구를 위한 책인가요?\\n- 블록 코딩을 배우고 처음으로 텍스트 코딩을 배우려는 초등 5~6학년, 중등 1~2학년\\n- 코딩을 쉽게 배우고 싶은 모든 사람'}]"
      ]
     },
     "execution_count": 27,
     "metadata": {},
     "output_type": "execute_result"
    }
   ],
   "source": [
    "result['items']"
   ]
  },
  {
   "cell_type": "code",
   "execution_count": 17,
   "id": "68ffc459",
   "metadata": {},
   "outputs": [
    {
     "data": {
      "text/plain": [
       "['혼자 공부하는 파이썬 (1:1 과외하듯 배우는 프로그래밍 자습서)',\n",
       " '파이썬과 40개의 작품들 (자동화, 크롤링, 이미지처리, 데이터분석, 웹페이지, GUI 프로그램, 게임)',\n",
       " 'Do it! 알고리즘 코딩 테스트: 파이썬 편 (코딩 테스트를 처음 준비하는 취준생의 필독서!)']"
      ]
     },
     "execution_count": 17,
     "metadata": {},
     "output_type": "execute_result"
    }
   ],
   "source": [
    "titles = [result['items'][n]['title'] for n in range(3)]\n",
    "titles"
   ]
  },
  {
   "cell_type": "code",
   "execution_count": 18,
   "id": "833e826e",
   "metadata": {},
   "outputs": [
    {
     "name": "stdout",
     "output_type": "stream",
     "text": [
      "혼자 공부하는 파이썬 (1:1 과외하듯 배우는 프로그래밍 자습서)\n",
      "파이썬과 40개의 작품들 (자동화, 크롤링, 이미지처리, 데이터분석, 웹페이지, GUI 프로그램, 게임)\n",
      "Do it! 알고리즘 코딩 테스트: 파이썬 편 (코딩 테스트를 처음 준비하는 취준생의 필독서!)\n"
     ]
    }
   ],
   "source": [
    "for n in range(3):\n",
    "    print(result['items'][n]['title'])"
   ]
  },
  {
   "cell_type": "code",
   "execution_count": 19,
   "id": "1b0f9b02",
   "metadata": {},
   "outputs": [
    {
     "data": {
      "text/plain": [
       "['윤인성', '장문철', '김종관']"
      ]
     },
     "execution_count": 19,
     "metadata": {},
     "output_type": "execute_result"
    }
   ],
   "source": [
    "authors = [result['items'][n]['author'] for n in range(3)]\n",
    "authors"
   ]
  },
  {
   "cell_type": "code",
   "execution_count": 20,
   "id": "bad00bb8",
   "metadata": {},
   "outputs": [
    {
     "data": {
      "text/plain": [
       "['20220601', '20220228', '20220816']"
      ]
     },
     "execution_count": 20,
     "metadata": {},
     "output_type": "execute_result"
    }
   ],
   "source": [
    "pubdates = [result['items'][n]['pubdate'] for n in range(3)]\n",
    "pubdates"
   ]
  },
  {
   "cell_type": "markdown",
   "id": "e0204784",
   "metadata": {},
   "source": [
    "### 책 정보를 데이터 프레임으로 만들기"
   ]
  },
  {
   "cell_type": "code",
   "execution_count": 21,
   "id": "6122965e",
   "metadata": {},
   "outputs": [
    {
     "data": {
      "text/html": [
       "<div>\n",
       "<style scoped>\n",
       "    .dataframe tbody tr th:only-of-type {\n",
       "        vertical-align: middle;\n",
       "    }\n",
       "\n",
       "    .dataframe tbody tr th {\n",
       "        vertical-align: top;\n",
       "    }\n",
       "\n",
       "    .dataframe thead th {\n",
       "        text-align: right;\n",
       "    }\n",
       "</style>\n",
       "<table border=\"1\" class=\"dataframe\">\n",
       "  <thead>\n",
       "    <tr style=\"text-align: right;\">\n",
       "      <th></th>\n",
       "      <th>책제목</th>\n",
       "      <th>작가</th>\n",
       "      <th>출판일</th>\n",
       "    </tr>\n",
       "  </thead>\n",
       "  <tbody>\n",
       "    <tr>\n",
       "      <th>0</th>\n",
       "      <td>혼자 공부하는 파이썬 (1:1 과외하듯 배우는 프로그래밍 자습서)</td>\n",
       "      <td>윤인성</td>\n",
       "      <td>20220601</td>\n",
       "    </tr>\n",
       "    <tr>\n",
       "      <th>1</th>\n",
       "      <td>파이썬과 40개의 작품들 (자동화, 크롤링, 이미지처리, 데이터분석, 웹페이지, G...</td>\n",
       "      <td>장문철</td>\n",
       "      <td>20220228</td>\n",
       "    </tr>\n",
       "    <tr>\n",
       "      <th>2</th>\n",
       "      <td>Do it! 알고리즘 코딩 테스트: 파이썬 편 (코딩 테스트를 처음 준비하는 취준생...</td>\n",
       "      <td>김종관</td>\n",
       "      <td>20220816</td>\n",
       "    </tr>\n",
       "  </tbody>\n",
       "</table>\n",
       "</div>"
      ],
      "text/plain": [
       "                                                 책제목   작가       출판일\n",
       "0               혼자 공부하는 파이썬 (1:1 과외하듯 배우는 프로그래밍 자습서)  윤인성  20220601\n",
       "1  파이썬과 40개의 작품들 (자동화, 크롤링, 이미지처리, 데이터분석, 웹페이지, G...  장문철  20220228\n",
       "2  Do it! 알고리즘 코딩 테스트: 파이썬 편 (코딩 테스트를 처음 준비하는 취준생...  김종관  20220816"
      ]
     },
     "execution_count": 21,
     "metadata": {},
     "output_type": "execute_result"
    }
   ],
   "source": [
    "import pandas as pd\n",
    "\n",
    "df = pd.DataFrame({\n",
    "    '책제목': titles,\n",
    "    '작가': authors,\n",
    "    '출판일': pubdates\n",
    "})\n",
    "df"
   ]
  },
  {
   "cell_type": "code",
   "execution_count": 22,
   "id": "17f21212",
   "metadata": {},
   "outputs": [],
   "source": [
    "# data frame을 만드는 함수 정의\n",
    "def get_dataframe(url):\n",
    "    client_id = \"ZpzF1rgmkgVK5icVR9Ou\"\n",
    "    client_secret = \"VmiMCmgoip\"\n",
    "\n",
    "    request = urllib.request.Request(url)\n",
    "    request.add_header(\"X-Naver-Client-Id\", client_id)\n",
    "    request.add_header(\"X-Naver-Client-Secret\", client_secret)\n",
    "\n",
    "    response = urllib.request.urlopen(request)\n",
    "    result = json.loads(response.read().decode('utf-8'))\n",
    "    \n",
    "    end_num = result['display']\n",
    "    \n",
    "    titles = [result['items'][n]['title'] for n in range(end_num)]\n",
    "    authors = [result['items'][n]['author'] for n in range(end_num)]\n",
    "    pubdates = [result['items'][n]['pubdate'] for n in range(end_num)]\n",
    "    \n",
    "    return pd.DataFrame({ '책제목': titles, '작가': authors, '출판일': pubdates})"
   ]
  },
  {
   "cell_type": "code",
   "execution_count": 25,
   "id": "06b0ec77",
   "metadata": {},
   "outputs": [
    {
     "data": {
      "text/html": [
       "<div>\n",
       "<style scoped>\n",
       "    .dataframe tbody tr th:only-of-type {\n",
       "        vertical-align: middle;\n",
       "    }\n",
       "\n",
       "    .dataframe tbody tr th {\n",
       "        vertical-align: top;\n",
       "    }\n",
       "\n",
       "    .dataframe thead th {\n",
       "        text-align: right;\n",
       "    }\n",
       "</style>\n",
       "<table border=\"1\" class=\"dataframe\">\n",
       "  <thead>\n",
       "    <tr style=\"text-align: right;\">\n",
       "      <th></th>\n",
       "      <th>책제목</th>\n",
       "      <th>작가</th>\n",
       "      <th>출판일</th>\n",
       "    </tr>\n",
       "  </thead>\n",
       "  <tbody>\n",
       "    <tr>\n",
       "      <th>0</th>\n",
       "      <td>혼자 공부하는 파이썬 (1:1 과외하듯 배우는 프로그래밍 자습서)</td>\n",
       "      <td>윤인성</td>\n",
       "      <td>20220601</td>\n",
       "    </tr>\n",
       "    <tr>\n",
       "      <th>1</th>\n",
       "      <td>파이썬과 40개의 작품들 (자동화, 크롤링, 이미지처리, 데이터분석, 웹페이지, G...</td>\n",
       "      <td>장문철</td>\n",
       "      <td>20220228</td>\n",
       "    </tr>\n",
       "    <tr>\n",
       "      <th>2</th>\n",
       "      <td>Do it! 알고리즘 코딩 테스트: 파이썬 편 (코딩 테스트를 처음 준비하는 취준생...</td>\n",
       "      <td>김종관</td>\n",
       "      <td>20220816</td>\n",
       "    </tr>\n",
       "    <tr>\n",
       "      <th>3</th>\n",
       "      <td>모두의 파이썬 (20일 만에 배우는 프로그래밍 기초)</td>\n",
       "      <td>이승찬</td>\n",
       "      <td>20181009</td>\n",
       "    </tr>\n",
       "    <tr>\n",
       "      <th>4</th>\n",
       "      <td>파이썬 무작정 따라하기 (미래의 프로그래머를 위한)</td>\n",
       "      <td>서승희^송석리</td>\n",
       "      <td>20211220</td>\n",
       "    </tr>\n",
       "  </tbody>\n",
       "</table>\n",
       "</div>"
      ],
      "text/plain": [
       "                                                 책제목       작가       출판일\n",
       "0               혼자 공부하는 파이썬 (1:1 과외하듯 배우는 프로그래밍 자습서)      윤인성  20220601\n",
       "1  파이썬과 40개의 작품들 (자동화, 크롤링, 이미지처리, 데이터분석, 웹페이지, G...      장문철  20220228\n",
       "2  Do it! 알고리즘 코딩 테스트: 파이썬 편 (코딩 테스트를 처음 준비하는 취준생...      김종관  20220816\n",
       "3                      모두의 파이썬 (20일 만에 배우는 프로그래밍 기초)      이승찬  20181009\n",
       "4                       파이썬 무작정 따라하기 (미래의 프로그래머를 위한)  서승희^송석리  20211220"
      ]
     },
     "execution_count": 25,
     "metadata": {},
     "output_type": "execute_result"
    }
   ],
   "source": [
    "get_dataframe(url)"
   ]
  },
  {
   "cell_type": "markdown",
   "id": "0e98e7d5",
   "metadata": {},
   "source": [
    "### 보여줄 개수 지정하기"
   ]
  },
  {
   "cell_type": "code",
   "execution_count": 29,
   "id": "125110fc",
   "metadata": {},
   "outputs": [],
   "source": [
    "result_search = []\n",
    "\n",
    "for n in range(1, 300, 100):\n",
    "    url = create_url(\"book\", \"파이썬\", n, 100)\n",
    "    result_search.append(get_dataframe(url))\n",
    "\n",
    "result_search = pd.concat(result_search)"
   ]
  },
  {
   "cell_type": "code",
   "execution_count": 31,
   "id": "57bd4e33",
   "metadata": {},
   "outputs": [
    {
     "data": {
      "text/html": [
       "<div>\n",
       "<style scoped>\n",
       "    .dataframe tbody tr th:only-of-type {\n",
       "        vertical-align: middle;\n",
       "    }\n",
       "\n",
       "    .dataframe tbody tr th {\n",
       "        vertical-align: top;\n",
       "    }\n",
       "\n",
       "    .dataframe thead th {\n",
       "        text-align: right;\n",
       "    }\n",
       "</style>\n",
       "<table border=\"1\" class=\"dataframe\">\n",
       "  <thead>\n",
       "    <tr style=\"text-align: right;\">\n",
       "      <th></th>\n",
       "      <th>책제목</th>\n",
       "      <th>작가</th>\n",
       "      <th>출판일</th>\n",
       "    </tr>\n",
       "  </thead>\n",
       "  <tbody>\n",
       "    <tr>\n",
       "      <th>0</th>\n",
       "      <td>혼자 공부하는 파이썬 (1:1 과외하듯 배우는 프로그래밍 자습서)</td>\n",
       "      <td>윤인성</td>\n",
       "      <td>20220601</td>\n",
       "    </tr>\n",
       "    <tr>\n",
       "      <th>1</th>\n",
       "      <td>파이썬과 40개의 작품들 (자동화, 크롤링, 이미지처리, 데이터분석, 웹페이지, G...</td>\n",
       "      <td>장문철</td>\n",
       "      <td>20220228</td>\n",
       "    </tr>\n",
       "    <tr>\n",
       "      <th>2</th>\n",
       "      <td>Do it! 알고리즘 코딩 테스트: 파이썬 편 (코딩 테스트를 처음 준비하는 취준생...</td>\n",
       "      <td>김종관</td>\n",
       "      <td>20220816</td>\n",
       "    </tr>\n",
       "    <tr>\n",
       "      <th>3</th>\n",
       "      <td>모두의 파이썬 (20일 만에 배우는 프로그래밍 기초)</td>\n",
       "      <td>이승찬</td>\n",
       "      <td>20181009</td>\n",
       "    </tr>\n",
       "    <tr>\n",
       "      <th>4</th>\n",
       "      <td>파이썬 무작정 따라하기 (미래의 프로그래머를 위한)</td>\n",
       "      <td>서승희^송석리</td>\n",
       "      <td>20211220</td>\n",
       "    </tr>\n",
       "  </tbody>\n",
       "</table>\n",
       "</div>"
      ],
      "text/plain": [
       "                                                 책제목       작가       출판일\n",
       "0               혼자 공부하는 파이썬 (1:1 과외하듯 배우는 프로그래밍 자습서)      윤인성  20220601\n",
       "1  파이썬과 40개의 작품들 (자동화, 크롤링, 이미지처리, 데이터분석, 웹페이지, G...      장문철  20220228\n",
       "2  Do it! 알고리즘 코딩 테스트: 파이썬 편 (코딩 테스트를 처음 준비하는 취준생...      김종관  20220816\n",
       "3                      모두의 파이썬 (20일 만에 배우는 프로그래밍 기초)      이승찬  20181009\n",
       "4                       파이썬 무작정 따라하기 (미래의 프로그래머를 위한)  서승희^송석리  20211220"
      ]
     },
     "execution_count": 31,
     "metadata": {},
     "output_type": "execute_result"
    }
   ],
   "source": [
    "result_search.head()"
   ]
  },
  {
   "cell_type": "code",
   "execution_count": 32,
   "id": "d78cd0a7",
   "metadata": {},
   "outputs": [
    {
     "data": {
      "text/html": [
       "<div>\n",
       "<style scoped>\n",
       "    .dataframe tbody tr th:only-of-type {\n",
       "        vertical-align: middle;\n",
       "    }\n",
       "\n",
       "    .dataframe tbody tr th {\n",
       "        vertical-align: top;\n",
       "    }\n",
       "\n",
       "    .dataframe thead th {\n",
       "        text-align: right;\n",
       "    }\n",
       "</style>\n",
       "<table border=\"1\" class=\"dataframe\">\n",
       "  <thead>\n",
       "    <tr style=\"text-align: right;\">\n",
       "      <th></th>\n",
       "      <th>책제목</th>\n",
       "      <th>작가</th>\n",
       "      <th>출판일</th>\n",
       "    </tr>\n",
       "  </thead>\n",
       "  <tbody>\n",
       "    <tr>\n",
       "      <th>95</th>\n",
       "      <td>파이썬을 제대로 활용해보려고 해(입문 + 활용) (파이썬 설치부터 업무자동화, 웹페...</td>\n",
       "      <td>최용^스타트코딩</td>\n",
       "      <td>20221205</td>\n",
       "    </tr>\n",
       "    <tr>\n",
       "      <th>96</th>\n",
       "      <td>어서와 파이썬은 처음이지!</td>\n",
       "      <td>천인국</td>\n",
       "      <td>20160812</td>\n",
       "    </tr>\n",
       "    <tr>\n",
       "      <th>97</th>\n",
       "      <td>파이썬으로 하는 데브옵스 (자동화, 클라우드, 머신러닝, 데이터 엔지니어링까지)</td>\n",
       "      <td>노아 기프트</td>\n",
       "      <td>20210630</td>\n",
       "    </tr>\n",
       "    <tr>\n",
       "      <th>98</th>\n",
       "      <td>파이썬을 이용한 통계적 머신러닝 (제3판)</td>\n",
       "      <td>박유성</td>\n",
       "      <td>20220615</td>\n",
       "    </tr>\n",
       "    <tr>\n",
       "      <th>99</th>\n",
       "      <td>파이썬 객체지향 프로그래밍 4/e (다각도로 살펴보는 OOP 시스템)</td>\n",
       "      <td>스티븐 로트^더스티 필립스</td>\n",
       "      <td>20220630</td>\n",
       "    </tr>\n",
       "  </tbody>\n",
       "</table>\n",
       "</div>"
      ],
      "text/plain": [
       "                                                  책제목              작가  \\\n",
       "95  파이썬을 제대로 활용해보려고 해(입문 + 활용) (파이썬 설치부터 업무자동화, 웹페...        최용^스타트코딩   \n",
       "96                                     어서와 파이썬은 처음이지!             천인국   \n",
       "97       파이썬으로 하는 데브옵스 (자동화, 클라우드, 머신러닝, 데이터 엔지니어링까지)          노아 기프트   \n",
       "98                            파이썬을 이용한 통계적 머신러닝 (제3판)             박유성   \n",
       "99             파이썬 객체지향 프로그래밍 4/e (다각도로 살펴보는 OOP 시스템)  스티븐 로트^더스티 필립스   \n",
       "\n",
       "         출판일  \n",
       "95  20221205  \n",
       "96  20160812  \n",
       "97  20210630  \n",
       "98  20220615  \n",
       "99  20220630  "
      ]
     },
     "execution_count": 32,
     "metadata": {},
     "output_type": "execute_result"
    }
   ],
   "source": [
    "result_search.tail()"
   ]
  },
  {
   "cell_type": "code",
   "execution_count": null,
   "id": "79048fdb",
   "metadata": {},
   "outputs": [],
   "source": []
  }
 ],
 "metadata": {
  "kernelspec": {
   "display_name": "Python 3 (ipykernel)",
   "language": "python",
   "name": "python3"
  },
  "language_info": {
   "codemirror_mode": {
    "name": "ipython",
    "version": 3
   },
   "file_extension": ".py",
   "mimetype": "text/x-python",
   "name": "python",
   "nbconvert_exporter": "python",
   "pygments_lexer": "ipython3",
   "version": "3.9.7"
  }
 },
 "nbformat": 4,
 "nbformat_minor": 5
}
