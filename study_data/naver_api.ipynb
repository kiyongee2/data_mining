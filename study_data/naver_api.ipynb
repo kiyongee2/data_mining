{
 "cells": [
  {
   "cell_type": "code",
   "execution_count": 17,
   "id": "6bac3446",
   "metadata": {},
   "outputs": [],
   "source": [
    "import urllib.request\n",
    "\n",
    "client_id = \"ZpzF1rgmkgVK5icVR9Ou\"\n",
    "client_secret = \"VmiMCmgoip\""
   ]
  },
  {
   "cell_type": "code",
   "execution_count": 18,
   "id": "c68a70ec",
   "metadata": {},
   "outputs": [],
   "source": [
    "encText = urllib.parse.quote(\"pinkwink\")\n",
    "url = \"https://openapi.naver.com/v1/search/blog.json?query=\" + encText"
   ]
  },
  {
   "cell_type": "code",
   "execution_count": 19,
   "id": "9fe7fe36",
   "metadata": {},
   "outputs": [],
   "source": [
    "request = urllib.request.Request(url)\n",
    "request.add_header(\"X-Naver-Client-Id\", client_id)\n",
    "request.add_header(\"X-Naver-Client-Secret\", client_secret)"
   ]
  },
  {
   "cell_type": "code",
   "execution_count": 20,
   "id": "041d6c57",
   "metadata": {},
   "outputs": [
    {
     "data": {
      "text/plain": [
       "200"
      ]
     },
     "execution_count": 20,
     "metadata": {},
     "output_type": "execute_result"
    }
   ],
   "source": [
    "response = urllib.request.urlopen(request)\n",
    "response.getcode()"
   ]
  },
  {
   "cell_type": "code",
   "execution_count": 12,
   "id": "e60ce4e1",
   "metadata": {},
   "outputs": [
    {
     "data": {
      "text/plain": [
       "http.client.HTTPResponse"
      ]
     },
     "execution_count": 12,
     "metadata": {},
     "output_type": "execute_result"
    }
   ],
   "source": [
    "type(response)"
   ]
  },
  {
   "cell_type": "code",
   "execution_count": 21,
   "id": "4a6dd6a2",
   "metadata": {},
   "outputs": [
    {
     "data": {
      "text/plain": [
       "'{\\n\\t\"lastBuildDate\":\"Tue, 17 Jan 2023 07:20:45 +0900\",\\n\\t\"total\":736,\\n\\t\"start\":1,\\n\\t\"display\":10,\\n\\t\"items\":[\\n\\t\\t{\\n\\t\\t\\t\"title\":\"핑크윙크 <b>PinkWink<\\\\/b>가 핑크랩 PinkLAB을 만들었습니다.\",\\n\\t\\t\\t\"link\":\"https:\\\\/\\\\/pinkwink.kr\\\\/1386\",\\n\\t\\t\\t\"description\":\"당시 강의에 대한 감상은 &quot;<b>PinkWink<\\\\/b>가 토요일마다 강의를 합니다.&quot;라는 글로 한참 후인 2019년에... 그래서 오늘은 저 <b>PinkWink<\\\\/b>가 설립한 PinkLAB을 간단히 소개하려고 합니다. PinkLAB 홈페이지 - https:\\\\/\\\\/www.pinklab.art... \",\\n\\t\\t\\t\"bloggername\":\"PinkWink\",\\n\\t\\t\\t\"bloggerlink\":\"https:\\\\/\\\\/pinkwink.kr\\\\/\",\\n\\t\\t\\t\"postdate\":\"20220606\"\\n\\t\\t},\\n\\t\\t{\\n\\t\\t\\t\"title\":\"<b>PinkWink<\\\\/b> darknet_ros, jetpack4.5.1에서 빌드 실패\",\\n\\t\\t\\t\"link\":\"https:\\\\/\\\\/blog.naver.com\\\\/zeta0807\\\\/222461538224\",\\n\\t\\t\\t\"description\":\"site\\\\/BLDC-fbd4f8bd75424563b074d8adb3c858fa https:\\\\/\\\\/<b>pinkwink<\\\\/b>.kr\\\\/1342을 참고하면 Jetson Nano... darknet_ros 다운로드 아래 명령어로 <b>PinkWink<\\\\/b> darknet_ros를 내려받았다. git clone... \",\\n\\t\\t\\t\"bloggername\":\"제타의 AIoT 나들이\",\\n\\t\\t\\t\"bloggerlink\":\"blog.naver.com\\\\/zeta0807\",\\n\\t\\t\\t\"postdate\":\"20210808\"\\n\\t\\t},\\n\\t\\t{\\n\\t\\t\\t\"title\":\"<b>PinkWink<\\\\/b> 블로그에서 온 선물..\",\\n\\t\\t\\t\"link\":\"https:\\\\/\\\\/blog.naver.com\\\\/chandong83\\\\/221531853244\",\\n\\t\\t\\t\"description\":\"국내 최고 아이티 블로그인 <b>PinkWink<\\\\/b> 블로거이신 민형기 박사님께서 선물을 보내주셨다~ 크.. 이런 영광이!!!! 잘 쓰겠습니다~ 박사님!!! 나도 나중에 블로그 잘 운영해서 이런 선물도 나눠줘 보고 싶다~~ㅋ 요즘... \",\\n\\t\\t\\t\"bloggername\":\"하이! 제니스\",\\n\\t\\t\\t\"bloggerlink\":\"blog.naver.com\\\\/chandong83\",\\n\\t\\t\\t\"postdate\":\"20190507\"\\n\\t\\t},\\n\\t\\t{\\n\\t\\t\\t\"title\":\"<b>PinkWink<\\\\/b>님의 DC모터 시정수 구하기.\",\\n\\t\\t\\t\"link\":\"https:\\\\/\\\\/blog.naver.com\\\\/hjh2578\\\\/222172280836\",\\n\\t\\t\\t\"description\":\"현재 밸런싱 봇 제작에 난항을 겪고 있어 해당 시정수를 측정하기 위한 방법을 구글링 해두었음 https:\\\\/\\\\/<b>pinkwink<\\\\/b>.kr\\\\/336 현재 갖고 있는 밸런싱봇에는 MCP4922라는 DA컨버터를 별도로 설계하여... \",\\n\\t\\t\\t\"bloggername\":\"닥현의 회로연구\",\\n\\t\\t\\t\"bloggerlink\":\"blog.naver.com\\\\/hjh2578\",\\n\\t\\t\\t\"postdate\":\"20201213\"\\n\\t\\t},\\n\\t\\t{\\n\\t\\t\\t\"title\":\"<b>PinkWink<\\\\/b>가 좋아하는 전자기기들을 소개합니다 ~~ ^^\",\\n\\t\\t\\t\"link\":\"https:\\\\/\\\\/pinkwink.tistory.com\\\\/701\",\\n\\t\\t\\t\"description\":\"그리고 저 <b>PinkWink<\\\\/b>도 이제 마흔이 되었답니다.ㅠㅠ. 에휴.. 마흔... 뭐 한국 나이는 두 종류이고.. 아직... 저 <b>PinkWink<\\\\/b>가 2012년 가을에 결혼을 했었는데요..[바로가기] 늦은 결혼이었지요^^ 그때 저는 신혼여행에서... \",\\n\\t\\t\\t\"bloggername\":\"PinkWink\",\\n\\t\\t\\t\"bloggerlink\":\"https:\\\\/\\\\/pinkwink.tistory.com\\\\/\",\\n\\t\\t\\t\"postdate\":\"20150612\"\\n\\t\\t},\\n\\t\\t{\\n\\t\\t\\t\"title\":\"자료 주소, <b>PinkWink<\\\\/b>, DataScience; 시카고 샌드위치 맛집 주소\",\\n\\t\\t\\t\"link\":\"https:\\\\/\\\\/blog.naver.com\\\\/doitnow-company\\\\/222090851064\",\\n\\t\\t\\t\"description\":\"책(파이썬으로 데이터 주무르기) 내용 자료 주소, <b>PinkWink<\\\\/b>, DataScience #3장 #시카고 #샌드위치 #맛집 #분석 #주소 - 교재 발간당시와 현재의 웹페이지가 바뀌어서, 교재에... \",\\n\\t\\t\\t\"bloggername\":\"날마다 성장하는 즐거움\",\\n\\t\\t\\t\"bloggerlink\":\"blog.naver.com\\\\/doitnow-company\",\\n\\t\\t\\t\"postdate\":\"20200916\"\\n\\t\\t},\\n\\t\\t{\\n\\t\\t\\t\"title\":\"[공유] <b>PinkWink<\\\\/b> :: 저역통과필터와 고역통과필터를 C로 구현\",\\n\\t\\t\\t\"link\":\"https:\\\\/\\\\/blog.naver.com\\\\/kangusreport\\\\/221870399107\",\\n\\t\\t\\t\"description\":\"<b>PinkWink<\\\\/b> :: 저역통과필터와 고역통과필터를 C로 구현\",\\n\\t\\t\\t\"bloggername\":\"Dex Note\",\\n\\t\\t\\t\"bloggerlink\":\"blog.naver.com\\\\/kangusreport\",\\n\\t\\t\\t\"postdate\":\"20200324\"\\n\\t\\t},\\n\\t\\t{\\n\\t\\t\\t\"title\":\"[공유] <b>PinkWink<\\\\/b> :: Python에서 OpenCV를 이용해서... \",\\n\\t\\t\\t\"link\":\"https:\\\\/\\\\/blog.naver.com\\\\/hersheythings\\\\/222221161855\",\\n\\t\\t\\t\"description\":\"<b>PinkWink<\\\\/b> :: Python에서 OpenCV를 이용해서 초간편하게 사람 얼굴, 몸을 인식하기\",\\n\\t\\t\\t\"bloggername\":\"Capital and Freedom\",\\n\\t\\t\\t\"bloggerlink\":\"blog.naver.com\\\\/hersheythings\",\\n\\t\\t\\t\"postdate\":\"20210127\"\\n\\t\\t},\\n\\t\\t{\\n\\t\\t\\t\"title\":\"<b>PinkWink<\\\\/b>님의 미바뤼 돌촬영 후기 :)\",\\n\\t\\t\\t\"link\":\"https:\\\\/\\\\/blog.naver.com\\\\/creta01\\\\/220191244266\",\\n\\t\\t\\t\"description\":\"원본출처 : <b>PinkWink<\\\\/b>님 블로그 :) http:\\\\/\\\\/<b>pinkwink<\\\\/b>.kr\\\\/678\",\\n\\t\\t\\t\"bloggername\":\"A moment in life\",\\n\\t\\t\\t\"bloggerlink\":\"blog.naver.com\\\\/creta01\",\\n\\t\\t\\t\"postdate\":\"20141125\"\\n\\t\\t},\\n\\t\\t{\\n\\t\\t\\t\"title\":\"http:\\\\/\\\\/<b>pinkwink<\\\\/b>.kr\\\\/218\",\\n\\t\\t\\t\"link\":\"https:\\\\/\\\\/blog.naver.com\\\\/2danzee\\\\/220548423642\",\\n\\t\\t\\t\"description\":\"http:\\\\/\\\\/<b>pinkwink<\\\\/b>.kr\\\\/218\",\\n\\t\\t\\t\"bloggername\":\"2danzee님의블로그\",\\n\\t\\t\\t\"bloggerlink\":\"blog.naver.com\\\\/2danzee\",\\n\\t\\t\\t\"postdate\":\"20151124\"\\n\\t\\t}\\n\\t]\\n}'"
      ]
     },
     "execution_count": 21,
     "metadata": {},
     "output_type": "execute_result"
    }
   ],
   "source": [
    "response.read().decode('utf-8')"
   ]
  },
  {
   "cell_type": "code",
   "execution_count": 22,
   "id": "c7cda286",
   "metadata": {},
   "outputs": [],
   "source": [
    "# 네이버 책 검색\n",
    "\n",
    "def create_url(api_node, search_text, start_num, disp_num):\n",
    "    base = \"https://openapi.naver.com/v1/search\"\n",
    "    node = \"/\" + api_node + \".json\"\n",
    "    param_query = \"?query=\" + urllib.parse.quote(search_text)\n",
    "    param_start = \"&start=\" + str(start_num)\n",
    "    param_disp = \"&display=\" + str(disp_num)\n",
    "    \n",
    "    return base + node + param_query + param_start + param_disp"
   ]
  },
  {
   "cell_type": "code",
   "execution_count": 23,
   "id": "ba23a488",
   "metadata": {},
   "outputs": [
    {
     "data": {
      "text/plain": [
       "'https://openapi.naver.com/v1/search/book.json?query=TEST&start=1&display=10'"
      ]
     },
     "execution_count": 23,
     "metadata": {},
     "output_type": "execute_result"
    }
   ],
   "source": [
    "create_url(\"book\", \"TEST\", 1, 10)"
   ]
  },
  {
   "cell_type": "code",
   "execution_count": 37,
   "id": "734a7d83",
   "metadata": {},
   "outputs": [
    {
     "name": "stdout",
     "output_type": "stream",
     "text": [
      "{'lastBuildDate': 'Tue, 17 Jan 2023 09:25:17 +0900', 'total': 1623891, 'start': 1, 'display': 3, 'items': [{'title': '&apos;3D 홀로그램 영상 획득 및 <b>분석</b>을 위한 AI&apos;영문 저서 출간', 'originallink': 'http://www.koit.co.kr/news/articleView.html?idxno=108498', 'link': 'http://www.koit.co.kr/news/articleView.html?idxno=108498', 'description': '또한, 홀로그램 <b>데이터</b>를 학습하는 AI 모델을 제시하고 학습된 AI가 탑재된 휴대 가능한 3차원 홀로그램 영상 기술을 소개하고 있다. 더 나아가 정밀의료기술 분야에 적용될 수 있는 AI 기반 홀로그램 영상 <b>분석</b>... ', 'pubDate': 'Tue, 17 Jan 2023 09:22:00 +0900'}, {'title': 'SKT, T deal에서 &apos;설맞이 특가대전&apos;', 'originallink': 'http://www.businesskorea.co.kr/news/articleView.html?idxno=107820', 'link': 'http://www.businesskorea.co.kr/news/articleView.html?idxno=107820', 'description': '&apos;티딜&apos;은 빅<b>데이터 분석</b> 및AI 큐레이션에 기반해 고객이 필요로 하는 맞춤형 상품을 추천하는 SKT 고객들만을 위한 문자 쇼핑 서비스로, 온라인 최저가 및 무료배송 등 다양한 혜택을 제공하고 있다. SKT는 &apos;설맞이... ', 'pubDate': 'Tue, 17 Jan 2023 09:22:00 +0900'}, {'title': '첨단 기술 활용 &apos;급성 신장손상 진단기술&apos; 개발', 'originallink': 'http://www.kmedinfo.co.kr/news/articleView.html?idxno=76702', 'link': 'http://www.kmedinfo.co.kr/news/articleView.html?idxno=76702', 'description': '기존의 PCA 통계<b>분석</b>을 통해서는 라만신호의 <b>데이터</b> 분포와 진단 가능성을 검토할 수 없었으며, 라만신호를 PLS-DA 메커니즘에 접목해 <b>분석</b>했더니 혈액과 소변에서 99.3%, 99.9%의 정확도로 신장기능 평가가 가능하다는... ', 'pubDate': 'Tue, 17 Jan 2023 09:22:00 +0900'}]}\n"
     ]
    }
   ],
   "source": [
    "import json\n",
    "\n",
    "client_id = \"ZpzF1rgmkgVK5icVR9Ou\"\n",
    "client_secret = \"VmiMCmgoip\"\n",
    "url = create_url(\"news\", \"데이터분석\", 1, 3)\n",
    "# 요청\n",
    "request = urllib.request.Request(url)\n",
    "request.add_header(\"X-Naver-Client-Id\", client_id)\n",
    "request.add_header(\"X-Naver-Client-Secret\", client_secret)\n",
    "# 응답\n",
    "response = urllib.request.urlopen(request)\n",
    "result = json.loads(response.read().decode('utf-8'))\n",
    "print(result)"
   ]
  },
  {
   "cell_type": "code",
   "execution_count": 25,
   "id": "fcc3176d",
   "metadata": {},
   "outputs": [
    {
     "data": {
      "text/plain": [
       "3"
      ]
     },
     "execution_count": 25,
     "metadata": {},
     "output_type": "execute_result"
    }
   ],
   "source": [
    "result['display']"
   ]
  },
  {
   "cell_type": "code",
   "execution_count": 38,
   "id": "52ff4a94",
   "metadata": {},
   "outputs": [
    {
     "data": {
      "text/plain": [
       "[{'title': '&apos;3D 홀로그램 영상 획득 및 <b>분석</b>을 위한 AI&apos;영문 저서 출간',\n",
       "  'originallink': 'http://www.koit.co.kr/news/articleView.html?idxno=108498',\n",
       "  'link': 'http://www.koit.co.kr/news/articleView.html?idxno=108498',\n",
       "  'description': '또한, 홀로그램 <b>데이터</b>를 학습하는 AI 모델을 제시하고 학습된 AI가 탑재된 휴대 가능한 3차원 홀로그램 영상 기술을 소개하고 있다. 더 나아가 정밀의료기술 분야에 적용될 수 있는 AI 기반 홀로그램 영상 <b>분석</b>... ',\n",
       "  'pubDate': 'Tue, 17 Jan 2023 09:22:00 +0900'},\n",
       " {'title': 'SKT, T deal에서 &apos;설맞이 특가대전&apos;',\n",
       "  'originallink': 'http://www.businesskorea.co.kr/news/articleView.html?idxno=107820',\n",
       "  'link': 'http://www.businesskorea.co.kr/news/articleView.html?idxno=107820',\n",
       "  'description': '&apos;티딜&apos;은 빅<b>데이터 분석</b> 및AI 큐레이션에 기반해 고객이 필요로 하는 맞춤형 상품을 추천하는 SKT 고객들만을 위한 문자 쇼핑 서비스로, 온라인 최저가 및 무료배송 등 다양한 혜택을 제공하고 있다. SKT는 &apos;설맞이... ',\n",
       "  'pubDate': 'Tue, 17 Jan 2023 09:22:00 +0900'},\n",
       " {'title': '첨단 기술 활용 &apos;급성 신장손상 진단기술&apos; 개발',\n",
       "  'originallink': 'http://www.kmedinfo.co.kr/news/articleView.html?idxno=76702',\n",
       "  'link': 'http://www.kmedinfo.co.kr/news/articleView.html?idxno=76702',\n",
       "  'description': '기존의 PCA 통계<b>분석</b>을 통해서는 라만신호의 <b>데이터</b> 분포와 진단 가능성을 검토할 수 없었으며, 라만신호를 PLS-DA 메커니즘에 접목해 <b>분석</b>했더니 혈액과 소변에서 99.3%, 99.9%의 정확도로 신장기능 평가가 가능하다는... ',\n",
       "  'pubDate': 'Tue, 17 Jan 2023 09:22:00 +0900'}]"
      ]
     },
     "execution_count": 38,
     "metadata": {},
     "output_type": "execute_result"
    }
   ],
   "source": [
    "result['items']"
   ]
  },
  {
   "cell_type": "code",
   "execution_count": 39,
   "id": "68ffc459",
   "metadata": {},
   "outputs": [
    {
     "data": {
      "text/plain": [
       "['&apos;3D 홀로그램 영상 획득 및 <b>분석</b>을 위한 AI&apos;영문 저서 출간',\n",
       " 'SKT, T deal에서 &apos;설맞이 특가대전&apos;',\n",
       " '첨단 기술 활용 &apos;급성 신장손상 진단기술&apos; 개발']"
      ]
     },
     "execution_count": 39,
     "metadata": {},
     "output_type": "execute_result"
    }
   ],
   "source": [
    "titles = [result['items'][n]['title'] for n in range(3)]\n",
    "titles"
   ]
  },
  {
   "cell_type": "code",
   "execution_count": 40,
   "id": "833e826e",
   "metadata": {},
   "outputs": [
    {
     "name": "stdout",
     "output_type": "stream",
     "text": [
      "&apos;3D 홀로그램 영상 획득 및 <b>분석</b>을 위한 AI&apos;영문 저서 출간\n",
      "SKT, T deal에서 &apos;설맞이 특가대전&apos;\n",
      "첨단 기술 활용 &apos;급성 신장손상 진단기술&apos; 개발\n"
     ]
    }
   ],
   "source": [
    "for n in range(3):\n",
    "    print(result['items'][n]['title'])"
   ]
  },
  {
   "cell_type": "code",
   "execution_count": null,
   "id": "336a2aa2",
   "metadata": {},
   "outputs": [],
   "source": []
  }
 ],
 "metadata": {
  "kernelspec": {
   "display_name": "Python 3 (ipykernel)",
   "language": "python",
   "name": "python3"
  },
  "language_info": {
   "codemirror_mode": {
    "name": "ipython",
    "version": 3
   },
   "file_extension": ".py",
   "mimetype": "text/x-python",
   "name": "python",
   "nbconvert_exporter": "python",
   "pygments_lexer": "ipython3",
   "version": "3.9.7"
  }
 },
 "nbformat": 4,
 "nbformat_minor": 5
}
