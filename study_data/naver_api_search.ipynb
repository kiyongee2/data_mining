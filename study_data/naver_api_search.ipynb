{
 "cells": [
  {
   "cell_type": "markdown",
   "id": "11146d3f",
   "metadata": {},
   "source": [
    "## 네이버 API 사용해 보기\n",
    "### 네이버 개발자 센터 > 애플리케이션"
   ]
  },
  {
   "cell_type": "markdown",
   "id": "8305256e",
   "metadata": {},
   "source": [
    "### 네이버 블로그 검색\n",
    "#### https://openapi.naver.com/v1/search/blog.json"
   ]
  },
  {
   "cell_type": "code",
   "execution_count": 6,
   "id": "c68a70ec",
   "metadata": {},
   "outputs": [],
   "source": [
    "import urllib.request\n",
    "\n",
    "client_id = \"ZpzF1rgmkgVK5icVR9Ou\"\n",
    "client_secret = \"VmiMCmgoip\"\n",
    "\n",
    "encText = urllib.parse.quote(\"sugu2000kr\")\n",
    "url = \"https://openapi.naver.com/v1/search/blog.json?query=\" + encText"
   ]
  },
  {
   "cell_type": "code",
   "execution_count": 7,
   "id": "9fe7fe36",
   "metadata": {},
   "outputs": [],
   "source": [
    "request = urllib.request.Request(url)\n",
    "request.add_header(\"X-Naver-Client-Id\", client_id)\n",
    "request.add_header(\"X-Naver-Client-Secret\", client_secret)"
   ]
  },
  {
   "cell_type": "code",
   "execution_count": 9,
   "id": "041d6c57",
   "metadata": {},
   "outputs": [
    {
     "data": {
      "text/plain": [
       "200"
      ]
     },
     "execution_count": 9,
     "metadata": {},
     "output_type": "execute_result"
    }
   ],
   "source": [
    "response = urllib.request.urlopen(request)\n",
    "response.getcode()"
   ]
  },
  {
   "cell_type": "code",
   "execution_count": 4,
   "id": "e60ce4e1",
   "metadata": {},
   "outputs": [
    {
     "data": {
      "text/plain": [
       "http.client.HTTPResponse"
      ]
     },
     "execution_count": 4,
     "metadata": {},
     "output_type": "execute_result"
    }
   ],
   "source": [
    "type(response)"
   ]
  },
  {
   "cell_type": "code",
   "execution_count": 10,
   "id": "4a6dd6a2",
   "metadata": {},
   "outputs": [
    {
     "data": {
      "text/plain": [
       "'{\\n\\t\"lastBuildDate\":\"Tue, 07 Feb 2023 09:12:42 +0900\",\\n\\t\"total\":2,\\n\\t\"start\":1,\\n\\t\"display\":2,\\n\\t\"items\":[\\n\\t\\t{\\n\\t\\t\\t\"title\":\"펭귄 식당\",\\n\\t\\t\\t\"link\":\"https:\\\\/\\\\/blog.naver.com\\\\/twinshan4\\\\/130148471403\",\\n\\t\\t\\t\"description\":\"웃는바위(<b>sugu2000kr<\\\\/b>)카페매니저A123.com - 4500+ Free Games A123.com - 4500+ Free Games 뜨는시간(로딩)이 조금 걸리네요.. 넘 재미난 게임이에요.. [출처] 팽귄식당 (한컴CQ교실\\\\/한컴미래로봇... \",\\n\\t\\t\\t\"bloggername\":\"twinshan4님의블로그\",\\n\\t\\t\\t\"bloggerlink\":\"blog.naver.com\\\\/twinshan4\",\\n\\t\\t\\t\"postdate\":\"20121002\"\\n\\t\\t},\\n\\t\\t{\\n\\t\\t\\t\"title\":\"nrc선불제\",\\n\\t\\t\\t\"link\":\"https:\\\\/\\\\/blog.naver.com\\\\/shdalma\\\\/60013885456\",\\n\\t\\t\\t\"description\":\"| 밥 일 꿈 2005\\\\/06\\\\/11 21:44 http:\\\\/\\\\/blog.naver.com\\\\/<b>sugu2000kr<\\\\/b>\\\\/140013885299 출처블로그 : 행동은 생각을 지배한다 지금부터 내가 하고자 하는 이야기는, 통신으로 어떻게 돈을 벌 수 있는가에 대한 내용이야... 먼저는 통신이... \",\\n\\t\\t\\t\"bloggername\":\"shdalma님의 블로그\",\\n\\t\\t\\t\"bloggerlink\":\"blog.naver.com\\\\/shdalma\",\\n\\t\\t\\t\"postdate\":\"20050613\"\\n\\t\\t}\\n\\t]\\n}'"
      ]
     },
     "execution_count": 10,
     "metadata": {},
     "output_type": "execute_result"
    }
   ],
   "source": [
    "response.read().decode('utf-8')"
   ]
  },
  {
   "cell_type": "markdown",
   "id": "cfb7a836",
   "metadata": {},
   "source": [
    "### 네이버 책 검색\n",
    "#### https://openapi.naver.com/v1/search/book.json"
   ]
  },
  {
   "cell_type": "code",
   "execution_count": 11,
   "id": "c7cda286",
   "metadata": {},
   "outputs": [],
   "source": [
    "import urllib.request\n",
    "\n",
    "def create_url(api_node, search_text, start_num, disp_num):\n",
    "    base = \"https://openapi.naver.com/v1/search\"\n",
    "    node = \"/\" + api_node + \".json\"\n",
    "    param_query = \"?query=\" + urllib.parse.quote(search_text)\n",
    "    param_start = \"&start=\" + str(start_num)\n",
    "    param_disp = \"&display=\" + str(disp_num)\n",
    "    \n",
    "    return base + node + param_query + param_start + param_disp"
   ]
  },
  {
   "cell_type": "code",
   "execution_count": 12,
   "id": "ba23a488",
   "metadata": {},
   "outputs": [
    {
     "data": {
      "text/plain": [
       "'https://openapi.naver.com/v1/search/book.json?query=TEST&start=1&display=10'"
      ]
     },
     "execution_count": 12,
     "metadata": {},
     "output_type": "execute_result"
    }
   ],
   "source": [
    "create_url(\"book\", \"TEST\", 1, 10)"
   ]
  },
  {
   "cell_type": "code",
   "execution_count": 14,
   "id": "734a7d83",
   "metadata": {},
   "outputs": [
    {
     "name": "stdout",
     "output_type": "stream",
     "text": [
      "{'lastBuildDate': 'Tue, 07 Feb 2023 09:18:49 +0900', 'total': 765, 'start': 1, 'display': 5, 'items': [{'title': '2023 ADsP 데이터 분석 준전문가', 'link': 'https://search.shopping.naver.com/book/catalog/36975835621', 'image': 'https://shopping-phinf.pstatic.net/main_3697583/36975835621.20230131164558.jpg', 'author': '윤종식', 'discount': '27900', 'publisher': '데이터에듀', 'pubdate': '20230120', 'isbn': '9791197889585', 'description': '본 도서는 한국데이터베이스진흥원에서 실시하고 있는 『데이터 분석 전문가(ADP)』 자격증과 『데이터 분석 준전문가(ADsP)』 자격증을 준비하는 수험생들을 위한 도서이다. 2014년 4월 이후 시행된 자격증 시험의 기출문제를 분석하여 문제의 의도와 유형을 파악하여 중요한 내용을 표와 그림을 위주로 1과목 데이터의 이해, 2과목 데이터 분석 기획 그리고 3과목 데이터 분석의 내용을 정리하였다. 각 장에는 온라인/오프라인 강의에서 언급한 출제경향을 따로 표기하여 수험생들이 공부해야 하는 중심 내용을 체크해 주었다. 또한 각 장마다 기출문제 분석을 통해 다량의 예상문제를 수록하여 내용을 다시 점검할 수 있도록 하였다. 본 교재는 5회의 기출문제를 수록하여 실제 자격증 시험에 어떤 문제들이 어떤 식으로 나오는지를 확인할 수 있게 만들었고 2회의 모의고사를 수록하여 가상의 시험을 경험해 볼 수 있도록 제공하고 있다. 또한 본 도서는 모든 교육과정을 30일로 정리하여 수록하였으며, 30일간 차근차근 내용을 학습해 나간다면 누구나 합격할 수 있도록 가이드 하고 있다. 특히 합격마법노트를 통해 시험 전, 다시 한번 주요 내용들을 체크할 수 있도록 내용을 정리했고 QR코드를 활용해 문제풀이 동영상을 볼 수 있는 서비스를 제공한다.본 도서는 『데이터 분석 전문가(ADP)』 자격증과 『데이터 분석 준전문가(ADsP)』 자격증을 공부하는 모든 예비 전문가들에게 쉽고 빠르게 자격증을 취득할 수 있도록 도움을 줄 것이다.'}, {'title': '진짜 쓰는 실무 엑셀 (유튜브 대표 엑셀 채널, 오빠두가 알려 주는 엑셀 함수, 보고서 작성, 데이터 분석 노하우!)', 'link': 'https://search.shopping.naver.com/book/catalog/32454929881', 'image': 'https://shopping-phinf.pstatic.net/main_3245492/32454929881.20230205104143.jpg', 'author': '오빠두(전진권)', 'discount': '18150', 'publisher': '제이펍', 'pubdate': '20220215', 'isbn': '9791191600704', 'description': \"대기업 직장 생활 10년의 실무 노하우와 엑셀 유튜브 채널을 운영하면서 들은 수많은 직장인의 고민을 해결할 수 있는 다양한 엑셀 비법을 담았다. '진짜 쓰는 실무 엑셀' 한 권이면 빠른 일 처리로 워라밸을 실현하고, 일잘러로 거듭날 수 있다! \\n\\n\\n\\n오랜 시간 엑셀은 수많은 발전을 거듭하였고, Office 365에서 Microsoft 365로 브랜드명을 변경하기까지 다양한 기능, 특히 동적 배열 함수가 추가되면서 매크로를 사용하지 않고도 많은 부분을 해결할 수 있도록 개선되었다. 이 책에서 소개하는 제대로 된 실무 활용 기능을 익힌다면 방대한 데이터에서 특정 자료를 취합하고 분석하기, 분석된 자료를 한눈에 보기 좋게 시각화하기, 반복되는 작업을 효율적으로 개선하기 등 회사에서 원하는 엑셀 사용 능력을 충분히 뛰어넘을 수 있을 것이다.\"}, {'title': '2023 수제비 데이터분석 준전문가(ADsP) (16회~35회 출제 경향 반영｜암기 비법서 PDF)', 'link': 'https://search.shopping.naver.com/book/catalog/36309082622', 'image': 'https://shopping-phinf.pstatic.net/main_3630908/36309082622.20230131163004.jpg', 'author': 'NCS 정보처리기술사 연구회', 'discount': '22500', 'publisher': '건기원', 'pubdate': '20230130', 'isbn': '9791157677108', 'description': '1. 비전공자를 위한 단기 합격 비법서!\\n   ㆍ 두음쌤, 학습 포인트 등 다양한 솔루션 제공\\n2. 최강 커뮤니티를 통한 실시간 피드백!\\n   ㆍ 데일리 문제, 실시간 질문 답변, 출제 경향 분석 제공\\n3. 추가 자료 커뮤니티 내 제공\\n   ㆍ 암기 비법 PDF 제공, 동영상 FAQ, 학습 전략 등 제공'}, {'title': '2023 이기적 빅데이터분석기사 필기 기본서 (동영상 강의 무료 제공)', 'link': 'https://search.shopping.naver.com/book/catalog/34221173660', 'image': 'https://shopping-phinf.pstatic.net/main_3422117/34221173660.20221019151740.jpg', 'author': '나홍석^배원성^이건길^이혜영^고려사이버대학교 AI·빅데이터 연구소', 'discount': '29700', 'publisher': '영진닷컴', 'pubdate': '20220824', 'isbn': '9788931466874', 'description': '본 도서는 최신 출제기준을 적용한 도서로, 빅데이터분석기사 필기 시험의 출제 경향을 철저히 분석하여 수험생들이 혼자서도 학습할 수 있도록 한 완벽 대비서이다. 시행처인 한국데이터산업진흥원에서 공개한 출제기준을 바탕으로 집필되었으며, 꼼꼼한 이론과 예상문제를 공부하며 시험 유형을 익힐 수 있고, 기출문제를 복원하고 키워드를 반영한 모의고사를 통해 시험에 철저하게 대비할 수 있도록 하였다. 또한 이론의 핵심을 다루는 모의고사 풀이 동영상을 독자에게 무료로 제공하여 필기 시험 준비에 도움이 되도록 하였다.'}, {'title': '파이썬을 이용한 경제 및 금융 데이터 분석', 'link': 'https://search.shopping.naver.com/book/catalog/37528683625', 'image': 'https://shopping-phinf.pstatic.net/main_3752868/37528683625.20230204071854.jpg', 'author': '정호성', 'discount': '28500', 'publisher': '자유아카데미', 'pubdate': '20230131', 'isbn': '9791158084127', 'description': '“이 책은 국민대학교 경제학과 학생들에게 진행한 강의의 산물로, 기존 데이터 분석을 다룬 책과는 다른 몇 가지 특징이 있습니다. 먼저 우리나라 경제 상황을 나타내는 실제 데이터를 분석하며, 또한 누군가에 의해 가공된 데이터를 이용하는 것이 아니라 인터넷을 통해 필요한 데이터를 직접 입수합니다. 예를 들어 국토교통부에서 제공하는 주택실거래가 데이터, 한국은행에서 제공하는 통화량과 같은 거시데이터, 금융위원회에서 제공하는 주가 데이터를 파이썬을 이용하여 오픈 API로 입수합니다. 또한, 가구주 단위로 이루어져 있는 가계금융복지조사 데이터를 통계청에서 입수하여 분석합니다. 이처럼 필요한 경제 및 금융 데이터의 출처를 소개하고 이를 입수하는 과정부터 상세히 다룹니다. 다음으로 경제 관련 데이터 분석에 필요한 통계 및 계량경제 이론을 다룹니다. 실생활과 밀접한 관계에 있는 경제 관련 데이터를 통계학과 계량경제학 이론을 적용하여 분석하면 관련 이론의 의미를 보다 명확히 이해할 수 있습니다.'}]}\n"
     ]
    }
   ],
   "source": [
    "import json\n",
    "\n",
    "client_id = \"ZpzF1rgmkgVK5icVR9Ou\"\n",
    "client_secret = \"VmiMCmgoip\"\n",
    "\n",
    "url = create_url(\"book\", \"데이터 분석\", 1, 5)\n",
    "\n",
    "# 요청\n",
    "request = urllib.request.Request(url)\n",
    "request.add_header(\"X-Naver-Client-Id\", client_id)\n",
    "request.add_header(\"X-Naver-Client-Secret\", client_secret)\n",
    "# 응답\n",
    "response = urllib.request.urlopen(request)\n",
    "result = json.loads(response.read().decode('utf-8'))\n",
    "print(result)"
   ]
  },
  {
   "cell_type": "code",
   "execution_count": 15,
   "id": "fcc3176d",
   "metadata": {},
   "outputs": [
    {
     "data": {
      "text/plain": [
       "5"
      ]
     },
     "execution_count": 15,
     "metadata": {},
     "output_type": "execute_result"
    }
   ],
   "source": [
    "result['display']"
   ]
  },
  {
   "cell_type": "code",
   "execution_count": 16,
   "id": "52ff4a94",
   "metadata": {},
   "outputs": [
    {
     "data": {
      "text/plain": [
       "[{'title': '2023 ADsP 데이터 분석 준전문가',\n",
       "  'link': 'https://search.shopping.naver.com/book/catalog/36975835621',\n",
       "  'image': 'https://shopping-phinf.pstatic.net/main_3697583/36975835621.20230131164558.jpg',\n",
       "  'author': '윤종식',\n",
       "  'discount': '27900',\n",
       "  'publisher': '데이터에듀',\n",
       "  'pubdate': '20230120',\n",
       "  'isbn': '9791197889585',\n",
       "  'description': '본 도서는 한국데이터베이스진흥원에서 실시하고 있는 『데이터 분석 전문가(ADP)』 자격증과 『데이터 분석 준전문가(ADsP)』 자격증을 준비하는 수험생들을 위한 도서이다. 2014년 4월 이후 시행된 자격증 시험의 기출문제를 분석하여 문제의 의도와 유형을 파악하여 중요한 내용을 표와 그림을 위주로 1과목 데이터의 이해, 2과목 데이터 분석 기획 그리고 3과목 데이터 분석의 내용을 정리하였다. 각 장에는 온라인/오프라인 강의에서 언급한 출제경향을 따로 표기하여 수험생들이 공부해야 하는 중심 내용을 체크해 주었다. 또한 각 장마다 기출문제 분석을 통해 다량의 예상문제를 수록하여 내용을 다시 점검할 수 있도록 하였다. 본 교재는 5회의 기출문제를 수록하여 실제 자격증 시험에 어떤 문제들이 어떤 식으로 나오는지를 확인할 수 있게 만들었고 2회의 모의고사를 수록하여 가상의 시험을 경험해 볼 수 있도록 제공하고 있다. 또한 본 도서는 모든 교육과정을 30일로 정리하여 수록하였으며, 30일간 차근차근 내용을 학습해 나간다면 누구나 합격할 수 있도록 가이드 하고 있다. 특히 합격마법노트를 통해 시험 전, 다시 한번 주요 내용들을 체크할 수 있도록 내용을 정리했고 QR코드를 활용해 문제풀이 동영상을 볼 수 있는 서비스를 제공한다.본 도서는 『데이터 분석 전문가(ADP)』 자격증과 『데이터 분석 준전문가(ADsP)』 자격증을 공부하는 모든 예비 전문가들에게 쉽고 빠르게 자격증을 취득할 수 있도록 도움을 줄 것이다.'},\n",
       " {'title': '진짜 쓰는 실무 엑셀 (유튜브 대표 엑셀 채널, 오빠두가 알려 주는 엑셀 함수, 보고서 작성, 데이터 분석 노하우!)',\n",
       "  'link': 'https://search.shopping.naver.com/book/catalog/32454929881',\n",
       "  'image': 'https://shopping-phinf.pstatic.net/main_3245492/32454929881.20230205104143.jpg',\n",
       "  'author': '오빠두(전진권)',\n",
       "  'discount': '18150',\n",
       "  'publisher': '제이펍',\n",
       "  'pubdate': '20220215',\n",
       "  'isbn': '9791191600704',\n",
       "  'description': \"대기업 직장 생활 10년의 실무 노하우와 엑셀 유튜브 채널을 운영하면서 들은 수많은 직장인의 고민을 해결할 수 있는 다양한 엑셀 비법을 담았다. '진짜 쓰는 실무 엑셀' 한 권이면 빠른 일 처리로 워라밸을 실현하고, 일잘러로 거듭날 수 있다! \\n\\n\\n\\n오랜 시간 엑셀은 수많은 발전을 거듭하였고, Office 365에서 Microsoft 365로 브랜드명을 변경하기까지 다양한 기능, 특히 동적 배열 함수가 추가되면서 매크로를 사용하지 않고도 많은 부분을 해결할 수 있도록 개선되었다. 이 책에서 소개하는 제대로 된 실무 활용 기능을 익힌다면 방대한 데이터에서 특정 자료를 취합하고 분석하기, 분석된 자료를 한눈에 보기 좋게 시각화하기, 반복되는 작업을 효율적으로 개선하기 등 회사에서 원하는 엑셀 사용 능력을 충분히 뛰어넘을 수 있을 것이다.\"},\n",
       " {'title': '2023 수제비 데이터분석 준전문가(ADsP) (16회~35회 출제 경향 반영｜암기 비법서 PDF)',\n",
       "  'link': 'https://search.shopping.naver.com/book/catalog/36309082622',\n",
       "  'image': 'https://shopping-phinf.pstatic.net/main_3630908/36309082622.20230131163004.jpg',\n",
       "  'author': 'NCS 정보처리기술사 연구회',\n",
       "  'discount': '22500',\n",
       "  'publisher': '건기원',\n",
       "  'pubdate': '20230130',\n",
       "  'isbn': '9791157677108',\n",
       "  'description': '1. 비전공자를 위한 단기 합격 비법서!\\n   ㆍ 두음쌤, 학습 포인트 등 다양한 솔루션 제공\\n2. 최강 커뮤니티를 통한 실시간 피드백!\\n   ㆍ 데일리 문제, 실시간 질문 답변, 출제 경향 분석 제공\\n3. 추가 자료 커뮤니티 내 제공\\n   ㆍ 암기 비법 PDF 제공, 동영상 FAQ, 학습 전략 등 제공'},\n",
       " {'title': '2023 이기적 빅데이터분석기사 필기 기본서 (동영상 강의 무료 제공)',\n",
       "  'link': 'https://search.shopping.naver.com/book/catalog/34221173660',\n",
       "  'image': 'https://shopping-phinf.pstatic.net/main_3422117/34221173660.20221019151740.jpg',\n",
       "  'author': '나홍석^배원성^이건길^이혜영^고려사이버대학교 AI·빅데이터 연구소',\n",
       "  'discount': '29700',\n",
       "  'publisher': '영진닷컴',\n",
       "  'pubdate': '20220824',\n",
       "  'isbn': '9788931466874',\n",
       "  'description': '본 도서는 최신 출제기준을 적용한 도서로, 빅데이터분석기사 필기 시험의 출제 경향을 철저히 분석하여 수험생들이 혼자서도 학습할 수 있도록 한 완벽 대비서이다. 시행처인 한국데이터산업진흥원에서 공개한 출제기준을 바탕으로 집필되었으며, 꼼꼼한 이론과 예상문제를 공부하며 시험 유형을 익힐 수 있고, 기출문제를 복원하고 키워드를 반영한 모의고사를 통해 시험에 철저하게 대비할 수 있도록 하였다. 또한 이론의 핵심을 다루는 모의고사 풀이 동영상을 독자에게 무료로 제공하여 필기 시험 준비에 도움이 되도록 하였다.'},\n",
       " {'title': '파이썬을 이용한 경제 및 금융 데이터 분석',\n",
       "  'link': 'https://search.shopping.naver.com/book/catalog/37528683625',\n",
       "  'image': 'https://shopping-phinf.pstatic.net/main_3752868/37528683625.20230204071854.jpg',\n",
       "  'author': '정호성',\n",
       "  'discount': '28500',\n",
       "  'publisher': '자유아카데미',\n",
       "  'pubdate': '20230131',\n",
       "  'isbn': '9791158084127',\n",
       "  'description': '“이 책은 국민대학교 경제학과 학생들에게 진행한 강의의 산물로, 기존 데이터 분석을 다룬 책과는 다른 몇 가지 특징이 있습니다. 먼저 우리나라 경제 상황을 나타내는 실제 데이터를 분석하며, 또한 누군가에 의해 가공된 데이터를 이용하는 것이 아니라 인터넷을 통해 필요한 데이터를 직접 입수합니다. 예를 들어 국토교통부에서 제공하는 주택실거래가 데이터, 한국은행에서 제공하는 통화량과 같은 거시데이터, 금융위원회에서 제공하는 주가 데이터를 파이썬을 이용하여 오픈 API로 입수합니다. 또한, 가구주 단위로 이루어져 있는 가계금융복지조사 데이터를 통계청에서 입수하여 분석합니다. 이처럼 필요한 경제 및 금융 데이터의 출처를 소개하고 이를 입수하는 과정부터 상세히 다룹니다. 다음으로 경제 관련 데이터 분석에 필요한 통계 및 계량경제 이론을 다룹니다. 실생활과 밀접한 관계에 있는 경제 관련 데이터를 통계학과 계량경제학 이론을 적용하여 분석하면 관련 이론의 의미를 보다 명확히 이해할 수 있습니다.'}]"
      ]
     },
     "execution_count": 16,
     "metadata": {},
     "output_type": "execute_result"
    }
   ],
   "source": [
    "result['items']"
   ]
  },
  {
   "cell_type": "code",
   "execution_count": 18,
   "id": "68ffc459",
   "metadata": {},
   "outputs": [
    {
     "data": {
      "text/plain": [
       "['2023 ADsP 데이터 분석 준전문가',\n",
       " '진짜 쓰는 실무 엑셀 (유튜브 대표 엑셀 채널, 오빠두가 알려 주는 엑셀 함수, 보고서 작성, 데이터 분석 노하우!)',\n",
       " '2023 수제비 데이터분석 준전문가(ADsP) (16회~35회 출제 경향 반영｜암기 비법서 PDF)',\n",
       " '2023 이기적 빅데이터분석기사 필기 기본서 (동영상 강의 무료 제공)']"
      ]
     },
     "execution_count": 18,
     "metadata": {},
     "output_type": "execute_result"
    }
   ],
   "source": [
    "titles = [result['items'][n]['title'] for n in range(4)]\n",
    "titles"
   ]
  },
  {
   "cell_type": "code",
   "execution_count": 20,
   "id": "833e826e",
   "metadata": {},
   "outputs": [
    {
     "name": "stdout",
     "output_type": "stream",
     "text": [
      "2023 ADsP 데이터 분석 준전문가\n",
      "진짜 쓰는 실무 엑셀 (유튜브 대표 엑셀 채널, 오빠두가 알려 주는 엑셀 함수, 보고서 작성, 데이터 분석 노하우!)\n",
      "2023 수제비 데이터분석 준전문가(ADsP) (16회~35회 출제 경향 반영｜암기 비법서 PDF)\n",
      "2023 이기적 빅데이터분석기사 필기 기본서 (동영상 강의 무료 제공)\n"
     ]
    }
   ],
   "source": [
    "for n in range(4):\n",
    "    print(result['items'][n]['title'])"
   ]
  },
  {
   "cell_type": "code",
   "execution_count": 22,
   "id": "1b0f9b02",
   "metadata": {},
   "outputs": [
    {
     "data": {
      "text/plain": [
       "['윤종식', '오빠두(전진권)', 'NCS 정보처리기술사 연구회', '나홍석^배원성^이건길^이혜영^고려사이버대학교 AI·빅데이터 연구소']"
      ]
     },
     "execution_count": 22,
     "metadata": {},
     "output_type": "execute_result"
    }
   ],
   "source": [
    "authors = [result['items'][n]['author'] for n in range(4)]\n",
    "authors"
   ]
  },
  {
   "cell_type": "code",
   "execution_count": 23,
   "id": "bad00bb8",
   "metadata": {},
   "outputs": [
    {
     "data": {
      "text/plain": [
       "['20230120', '20220215', '20230130', '20220824']"
      ]
     },
     "execution_count": 23,
     "metadata": {},
     "output_type": "execute_result"
    }
   ],
   "source": [
    "pubdates = [result['items'][n]['pubdate'] for n in range(4)]\n",
    "pubdates"
   ]
  },
  {
   "cell_type": "markdown",
   "id": "e0204784",
   "metadata": {},
   "source": [
    "### 책 정보를 데이터 프레임으로 만들기"
   ]
  },
  {
   "cell_type": "code",
   "execution_count": 24,
   "id": "6122965e",
   "metadata": {},
   "outputs": [
    {
     "data": {
      "text/html": [
       "<div>\n",
       "<style scoped>\n",
       "    .dataframe tbody tr th:only-of-type {\n",
       "        vertical-align: middle;\n",
       "    }\n",
       "\n",
       "    .dataframe tbody tr th {\n",
       "        vertical-align: top;\n",
       "    }\n",
       "\n",
       "    .dataframe thead th {\n",
       "        text-align: right;\n",
       "    }\n",
       "</style>\n",
       "<table border=\"1\" class=\"dataframe\">\n",
       "  <thead>\n",
       "    <tr style=\"text-align: right;\">\n",
       "      <th></th>\n",
       "      <th>책제목</th>\n",
       "      <th>작가</th>\n",
       "      <th>출판일</th>\n",
       "    </tr>\n",
       "  </thead>\n",
       "  <tbody>\n",
       "    <tr>\n",
       "      <th>0</th>\n",
       "      <td>2023 ADsP 데이터 분석 준전문가</td>\n",
       "      <td>윤종식</td>\n",
       "      <td>20230120</td>\n",
       "    </tr>\n",
       "    <tr>\n",
       "      <th>1</th>\n",
       "      <td>진짜 쓰는 실무 엑셀 (유튜브 대표 엑셀 채널, 오빠두가 알려 주는 엑셀 함수, 보...</td>\n",
       "      <td>오빠두(전진권)</td>\n",
       "      <td>20220215</td>\n",
       "    </tr>\n",
       "    <tr>\n",
       "      <th>2</th>\n",
       "      <td>2023 수제비 데이터분석 준전문가(ADsP) (16회~35회 출제 경향 반영｜암기...</td>\n",
       "      <td>NCS 정보처리기술사 연구회</td>\n",
       "      <td>20230130</td>\n",
       "    </tr>\n",
       "    <tr>\n",
       "      <th>3</th>\n",
       "      <td>2023 이기적 빅데이터분석기사 필기 기본서 (동영상 강의 무료 제공)</td>\n",
       "      <td>나홍석^배원성^이건길^이혜영^고려사이버대학교 AI·빅데이터 연구소</td>\n",
       "      <td>20220824</td>\n",
       "    </tr>\n",
       "  </tbody>\n",
       "</table>\n",
       "</div>"
      ],
      "text/plain": [
       "                                                 책제목  \\\n",
       "0                              2023 ADsP 데이터 분석 준전문가   \n",
       "1  진짜 쓰는 실무 엑셀 (유튜브 대표 엑셀 채널, 오빠두가 알려 주는 엑셀 함수, 보...   \n",
       "2  2023 수제비 데이터분석 준전문가(ADsP) (16회~35회 출제 경향 반영｜암기...   \n",
       "3            2023 이기적 빅데이터분석기사 필기 기본서 (동영상 강의 무료 제공)   \n",
       "\n",
       "                                     작가       출판일  \n",
       "0                                   윤종식  20230120  \n",
       "1                              오빠두(전진권)  20220215  \n",
       "2                       NCS 정보처리기술사 연구회  20230130  \n",
       "3  나홍석^배원성^이건길^이혜영^고려사이버대학교 AI·빅데이터 연구소  20220824  "
      ]
     },
     "execution_count": 24,
     "metadata": {},
     "output_type": "execute_result"
    }
   ],
   "source": [
    "import pandas as pd\n",
    "\n",
    "df = pd.DataFrame({\n",
    "    '책제목': titles,\n",
    "    '작가': authors,\n",
    "    '출판일': pubdates\n",
    "})\n",
    "df"
   ]
  },
  {
   "cell_type": "code",
   "execution_count": 27,
   "id": "17f21212",
   "metadata": {},
   "outputs": [
    {
     "name": "stdout",
     "output_type": "stream",
     "text": [
      "{'lastBuildDate': 'Tue, 07 Feb 2023 09:29:50 +0900', 'total': 765, 'start': 1, 'display': 5, 'items': [{'title': '2023 ADsP 데이터 분석 준전문가', 'link': 'https://search.shopping.naver.com/book/catalog/36975835621', 'image': 'https://shopping-phinf.pstatic.net/main_3697583/36975835621.20230131164558.jpg', 'author': '윤종식', 'discount': '27900', 'publisher': '데이터에듀', 'pubdate': '20230120', 'isbn': '9791197889585', 'description': '본 도서는 한국데이터베이스진흥원에서 실시하고 있는 『데이터 분석 전문가(ADP)』 자격증과 『데이터 분석 준전문가(ADsP)』 자격증을 준비하는 수험생들을 위한 도서이다. 2014년 4월 이후 시행된 자격증 시험의 기출문제를 분석하여 문제의 의도와 유형을 파악하여 중요한 내용을 표와 그림을 위주로 1과목 데이터의 이해, 2과목 데이터 분석 기획 그리고 3과목 데이터 분석의 내용을 정리하였다. 각 장에는 온라인/오프라인 강의에서 언급한 출제경향을 따로 표기하여 수험생들이 공부해야 하는 중심 내용을 체크해 주었다. 또한 각 장마다 기출문제 분석을 통해 다량의 예상문제를 수록하여 내용을 다시 점검할 수 있도록 하였다. 본 교재는 5회의 기출문제를 수록하여 실제 자격증 시험에 어떤 문제들이 어떤 식으로 나오는지를 확인할 수 있게 만들었고 2회의 모의고사를 수록하여 가상의 시험을 경험해 볼 수 있도록 제공하고 있다. 또한 본 도서는 모든 교육과정을 30일로 정리하여 수록하였으며, 30일간 차근차근 내용을 학습해 나간다면 누구나 합격할 수 있도록 가이드 하고 있다. 특히 합격마법노트를 통해 시험 전, 다시 한번 주요 내용들을 체크할 수 있도록 내용을 정리했고 QR코드를 활용해 문제풀이 동영상을 볼 수 있는 서비스를 제공한다.본 도서는 『데이터 분석 전문가(ADP)』 자격증과 『데이터 분석 준전문가(ADsP)』 자격증을 공부하는 모든 예비 전문가들에게 쉽고 빠르게 자격증을 취득할 수 있도록 도움을 줄 것이다.'}, {'title': '진짜 쓰는 실무 엑셀 (유튜브 대표 엑셀 채널, 오빠두가 알려 주는 엑셀 함수, 보고서 작성, 데이터 분석 노하우!)', 'link': 'https://search.shopping.naver.com/book/catalog/32454929881', 'image': 'https://shopping-phinf.pstatic.net/main_3245492/32454929881.20230205104143.jpg', 'author': '오빠두(전진권)', 'discount': '18150', 'publisher': '제이펍', 'pubdate': '20220215', 'isbn': '9791191600704', 'description': \"대기업 직장 생활 10년의 실무 노하우와 엑셀 유튜브 채널을 운영하면서 들은 수많은 직장인의 고민을 해결할 수 있는 다양한 엑셀 비법을 담았다. '진짜 쓰는 실무 엑셀' 한 권이면 빠른 일 처리로 워라밸을 실현하고, 일잘러로 거듭날 수 있다! \\n\\n\\n\\n오랜 시간 엑셀은 수많은 발전을 거듭하였고, Office 365에서 Microsoft 365로 브랜드명을 변경하기까지 다양한 기능, 특히 동적 배열 함수가 추가되면서 매크로를 사용하지 않고도 많은 부분을 해결할 수 있도록 개선되었다. 이 책에서 소개하는 제대로 된 실무 활용 기능을 익힌다면 방대한 데이터에서 특정 자료를 취합하고 분석하기, 분석된 자료를 한눈에 보기 좋게 시각화하기, 반복되는 작업을 효율적으로 개선하기 등 회사에서 원하는 엑셀 사용 능력을 충분히 뛰어넘을 수 있을 것이다.\"}, {'title': '2023 수제비 데이터분석 준전문가(ADsP) (16회~35회 출제 경향 반영｜암기 비법서 PDF)', 'link': 'https://search.shopping.naver.com/book/catalog/36309082622', 'image': 'https://shopping-phinf.pstatic.net/main_3630908/36309082622.20230131163004.jpg', 'author': 'NCS 정보처리기술사 연구회', 'discount': '22500', 'publisher': '건기원', 'pubdate': '20230130', 'isbn': '9791157677108', 'description': '1. 비전공자를 위한 단기 합격 비법서!\\n   ㆍ 두음쌤, 학습 포인트 등 다양한 솔루션 제공\\n2. 최강 커뮤니티를 통한 실시간 피드백!\\n   ㆍ 데일리 문제, 실시간 질문 답변, 출제 경향 분석 제공\\n3. 추가 자료 커뮤니티 내 제공\\n   ㆍ 암기 비법 PDF 제공, 동영상 FAQ, 학습 전략 등 제공'}, {'title': '2023 이기적 빅데이터분석기사 필기 기본서 (동영상 강의 무료 제공)', 'link': 'https://search.shopping.naver.com/book/catalog/34221173660', 'image': 'https://shopping-phinf.pstatic.net/main_3422117/34221173660.20221019151740.jpg', 'author': '나홍석^배원성^이건길^이혜영^고려사이버대학교 AI·빅데이터 연구소', 'discount': '29700', 'publisher': '영진닷컴', 'pubdate': '20220824', 'isbn': '9788931466874', 'description': '본 도서는 최신 출제기준을 적용한 도서로, 빅데이터분석기사 필기 시험의 출제 경향을 철저히 분석하여 수험생들이 혼자서도 학습할 수 있도록 한 완벽 대비서이다. 시행처인 한국데이터산업진흥원에서 공개한 출제기준을 바탕으로 집필되었으며, 꼼꼼한 이론과 예상문제를 공부하며 시험 유형을 익힐 수 있고, 기출문제를 복원하고 키워드를 반영한 모의고사를 통해 시험에 철저하게 대비할 수 있도록 하였다. 또한 이론의 핵심을 다루는 모의고사 풀이 동영상을 독자에게 무료로 제공하여 필기 시험 준비에 도움이 되도록 하였다.'}, {'title': '파이썬을 이용한 경제 및 금융 데이터 분석', 'link': 'https://search.shopping.naver.com/book/catalog/37528683625', 'image': 'https://shopping-phinf.pstatic.net/main_3752868/37528683625.20230204071854.jpg', 'author': '정호성', 'discount': '28500', 'publisher': '자유아카데미', 'pubdate': '20230131', 'isbn': '9791158084127', 'description': '“이 책은 국민대학교 경제학과 학생들에게 진행한 강의의 산물로, 기존 데이터 분석을 다룬 책과는 다른 몇 가지 특징이 있습니다. 먼저 우리나라 경제 상황을 나타내는 실제 데이터를 분석하며, 또한 누군가에 의해 가공된 데이터를 이용하는 것이 아니라 인터넷을 통해 필요한 데이터를 직접 입수합니다. 예를 들어 국토교통부에서 제공하는 주택실거래가 데이터, 한국은행에서 제공하는 통화량과 같은 거시데이터, 금융위원회에서 제공하는 주가 데이터를 파이썬을 이용하여 오픈 API로 입수합니다. 또한, 가구주 단위로 이루어져 있는 가계금융복지조사 데이터를 통계청에서 입수하여 분석합니다. 이처럼 필요한 경제 및 금융 데이터의 출처를 소개하고 이를 입수하는 과정부터 상세히 다룹니다. 다음으로 경제 관련 데이터 분석에 필요한 통계 및 계량경제 이론을 다룹니다. 실생활과 밀접한 관계에 있는 경제 관련 데이터를 통계학과 계량경제학 이론을 적용하여 분석하면 관련 이론의 의미를 보다 명확히 이해할 수 있습니다.'}]}\n"
     ]
    }
   ],
   "source": [
    "import urllib.request\n",
    "import json\n",
    "\n",
    "def create_url(api_node, search_text, start_num, disp_num):\n",
    "    base = \"https://openapi.naver.com/v1/search\"\n",
    "    node = \"/\" + api_node + \".json\"\n",
    "    param_query = \"?query=\" + urllib.parse.quote(search_text)\n",
    "    param_start = \"&start=\" + str(start_num)\n",
    "    param_disp = \"&display=\" + str(disp_num)\n",
    "    \n",
    "    return base + node + param_query + param_start + param_disp\n",
    "\n",
    "client_id = \"ZpzF1rgmkgVK5icVR9Ou\"\n",
    "client_secret = \"VmiMCmgoip\"\n",
    "\n",
    "url = create_url(\"book\", \"데이터 분석\", 1, 5)\n",
    "\n",
    "# 요청\n",
    "request = urllib.request.Request(url)\n",
    "request.add_header(\"X-Naver-Client-Id\", client_id)\n",
    "request.add_header(\"X-Naver-Client-Secret\", client_secret)\n",
    "# 응답\n",
    "response = urllib.request.urlopen(request)\n",
    "result = json.loads(response.read().decode('utf-8'))\n",
    "print(result)\n",
    "\n",
    "# data frame을 만드는 함수 정의\n",
    "def get_dataframe(url):\n",
    "    client_id = \"ZpzF1rgmkgVK5icVR9Ou\"\n",
    "    client_secret = \"VmiMCmgoip\"\n",
    "\n",
    "    request = urllib.request.Request(url)\n",
    "    request.add_header(\"X-Naver-Client-Id\", client_id)\n",
    "    request.add_header(\"X-Naver-Client-Secret\", client_secret)\n",
    "\n",
    "    response = urllib.request.urlopen(request)\n",
    "    result = json.loads(response.read().decode('utf-8'))\n",
    "    \n",
    "    end_num = result['display']\n",
    "    \n",
    "    titles = [result['items'][n]['title'] for n in range(end_num)]\n",
    "    authors = [result['items'][n]['author'] for n in range(end_num)]\n",
    "    pubdates = [result['items'][n]['pubdate'] for n in range(end_num)]\n",
    "    \n",
    "    return pd.DataFrame({ '책제목': titles, '작가': authors, '출판일': pubdates})"
   ]
  },
  {
   "cell_type": "code",
   "execution_count": 28,
   "id": "06b0ec77",
   "metadata": {},
   "outputs": [
    {
     "data": {
      "text/html": [
       "<div>\n",
       "<style scoped>\n",
       "    .dataframe tbody tr th:only-of-type {\n",
       "        vertical-align: middle;\n",
       "    }\n",
       "\n",
       "    .dataframe tbody tr th {\n",
       "        vertical-align: top;\n",
       "    }\n",
       "\n",
       "    .dataframe thead th {\n",
       "        text-align: right;\n",
       "    }\n",
       "</style>\n",
       "<table border=\"1\" class=\"dataframe\">\n",
       "  <thead>\n",
       "    <tr style=\"text-align: right;\">\n",
       "      <th></th>\n",
       "      <th>책제목</th>\n",
       "      <th>작가</th>\n",
       "      <th>출판일</th>\n",
       "    </tr>\n",
       "  </thead>\n",
       "  <tbody>\n",
       "    <tr>\n",
       "      <th>0</th>\n",
       "      <td>2023 ADsP 데이터 분석 준전문가</td>\n",
       "      <td>윤종식</td>\n",
       "      <td>20230120</td>\n",
       "    </tr>\n",
       "    <tr>\n",
       "      <th>1</th>\n",
       "      <td>진짜 쓰는 실무 엑셀 (유튜브 대표 엑셀 채널, 오빠두가 알려 주는 엑셀 함수, 보...</td>\n",
       "      <td>오빠두(전진권)</td>\n",
       "      <td>20220215</td>\n",
       "    </tr>\n",
       "    <tr>\n",
       "      <th>2</th>\n",
       "      <td>2023 수제비 데이터분석 준전문가(ADsP) (16회~35회 출제 경향 반영｜암기...</td>\n",
       "      <td>NCS 정보처리기술사 연구회</td>\n",
       "      <td>20230130</td>\n",
       "    </tr>\n",
       "    <tr>\n",
       "      <th>3</th>\n",
       "      <td>2023 이기적 빅데이터분석기사 필기 기본서 (동영상 강의 무료 제공)</td>\n",
       "      <td>나홍석^배원성^이건길^이혜영^고려사이버대학교 AI·빅데이터 연구소</td>\n",
       "      <td>20220824</td>\n",
       "    </tr>\n",
       "    <tr>\n",
       "      <th>4</th>\n",
       "      <td>파이썬을 이용한 경제 및 금융 데이터 분석</td>\n",
       "      <td>정호성</td>\n",
       "      <td>20230131</td>\n",
       "    </tr>\n",
       "  </tbody>\n",
       "</table>\n",
       "</div>"
      ],
      "text/plain": [
       "                                                 책제목  \\\n",
       "0                              2023 ADsP 데이터 분석 준전문가   \n",
       "1  진짜 쓰는 실무 엑셀 (유튜브 대표 엑셀 채널, 오빠두가 알려 주는 엑셀 함수, 보...   \n",
       "2  2023 수제비 데이터분석 준전문가(ADsP) (16회~35회 출제 경향 반영｜암기...   \n",
       "3            2023 이기적 빅데이터분석기사 필기 기본서 (동영상 강의 무료 제공)   \n",
       "4                            파이썬을 이용한 경제 및 금융 데이터 분석   \n",
       "\n",
       "                                     작가       출판일  \n",
       "0                                   윤종식  20230120  \n",
       "1                              오빠두(전진권)  20220215  \n",
       "2                       NCS 정보처리기술사 연구회  20230130  \n",
       "3  나홍석^배원성^이건길^이혜영^고려사이버대학교 AI·빅데이터 연구소  20220824  \n",
       "4                                   정호성  20230131  "
      ]
     },
     "execution_count": 28,
     "metadata": {},
     "output_type": "execute_result"
    }
   ],
   "source": [
    "get_dataframe(url)"
   ]
  },
  {
   "cell_type": "markdown",
   "id": "0e98e7d5",
   "metadata": {},
   "source": [
    "### 보여줄 개수 지정하기"
   ]
  },
  {
   "cell_type": "code",
   "execution_count": 46,
   "id": "125110fc",
   "metadata": {},
   "outputs": [],
   "source": [
    "result_search = []\n",
    "\n",
    "for n in range(1, 300):\n",
    "    url = create_url(\"book\", \"파이썬\", n, 100)\n",
    "    result_search.append(get_dataframe(url))\n",
    "\n",
    "result_search = pd.concat(result_search)"
   ]
  },
  {
   "cell_type": "code",
   "execution_count": 48,
   "id": "57bd4e33",
   "metadata": {},
   "outputs": [
    {
     "data": {
      "text/html": [
       "<div>\n",
       "<style scoped>\n",
       "    .dataframe tbody tr th:only-of-type {\n",
       "        vertical-align: middle;\n",
       "    }\n",
       "\n",
       "    .dataframe tbody tr th {\n",
       "        vertical-align: top;\n",
       "    }\n",
       "\n",
       "    .dataframe thead th {\n",
       "        text-align: right;\n",
       "    }\n",
       "</style>\n",
       "<table border=\"1\" class=\"dataframe\">\n",
       "  <thead>\n",
       "    <tr style=\"text-align: right;\">\n",
       "      <th></th>\n",
       "      <th>책제목</th>\n",
       "      <th>작가</th>\n",
       "      <th>출판일</th>\n",
       "    </tr>\n",
       "  </thead>\n",
       "  <tbody>\n",
       "    <tr>\n",
       "      <th>0</th>\n",
       "      <td>혼자 공부하는 파이썬 (1:1 과외하듯 배우는 프로그래밍 자습서)</td>\n",
       "      <td>윤인성</td>\n",
       "      <td>20220601</td>\n",
       "    </tr>\n",
       "    <tr>\n",
       "      <th>1</th>\n",
       "      <td>Do it! 알고리즘 코딩 테스트: 파이썬 편 (코딩 테스트를 처음 준비하는 취준생...</td>\n",
       "      <td>김종관</td>\n",
       "      <td>20220816</td>\n",
       "    </tr>\n",
       "    <tr>\n",
       "      <th>2</th>\n",
       "      <td>파이썬을 이용한 경제 및 금융 데이터 분석</td>\n",
       "      <td>정호성</td>\n",
       "      <td>20230131</td>\n",
       "    </tr>\n",
       "    <tr>\n",
       "      <th>3</th>\n",
       "      <td>Do it! 점프 투 파이썬 (이미 200만명이 이 책으로 프로그래밍을 시작했다!)</td>\n",
       "      <td>박응용</td>\n",
       "      <td>20190620</td>\n",
       "    </tr>\n",
       "    <tr>\n",
       "      <th>4</th>\n",
       "      <td>혼자 공부하는 데이터 분석 with 파이썬 (1:1 과외하듯 배우는 데이터 분석 자습서)</td>\n",
       "      <td>박해선</td>\n",
       "      <td>20230102</td>\n",
       "    </tr>\n",
       "  </tbody>\n",
       "</table>\n",
       "</div>"
      ],
      "text/plain": [
       "                                                 책제목   작가       출판일\n",
       "0               혼자 공부하는 파이썬 (1:1 과외하듯 배우는 프로그래밍 자습서)  윤인성  20220601\n",
       "1  Do it! 알고리즘 코딩 테스트: 파이썬 편 (코딩 테스트를 처음 준비하는 취준생...  김종관  20220816\n",
       "2                            파이썬을 이용한 경제 및 금융 데이터 분석  정호성  20230131\n",
       "3     Do it! 점프 투 파이썬 (이미 200만명이 이 책으로 프로그래밍을 시작했다!)  박응용  20190620\n",
       "4  혼자 공부하는 데이터 분석 with 파이썬 (1:1 과외하듯 배우는 데이터 분석 자습서)  박해선  20230102"
      ]
     },
     "execution_count": 48,
     "metadata": {},
     "output_type": "execute_result"
    }
   ],
   "source": [
    "result_search.head()"
   ]
  },
  {
   "cell_type": "code",
   "execution_count": 49,
   "id": "d78cd0a7",
   "metadata": {},
   "outputs": [
    {
     "data": {
      "text/html": [
       "<div>\n",
       "<style scoped>\n",
       "    .dataframe tbody tr th:only-of-type {\n",
       "        vertical-align: middle;\n",
       "    }\n",
       "\n",
       "    .dataframe tbody tr th {\n",
       "        vertical-align: top;\n",
       "    }\n",
       "\n",
       "    .dataframe thead th {\n",
       "        text-align: right;\n",
       "    }\n",
       "</style>\n",
       "<table border=\"1\" class=\"dataframe\">\n",
       "  <thead>\n",
       "    <tr style=\"text-align: right;\">\n",
       "      <th></th>\n",
       "      <th>책제목</th>\n",
       "      <th>작가</th>\n",
       "      <th>출판일</th>\n",
       "    </tr>\n",
       "  </thead>\n",
       "  <tbody>\n",
       "    <tr>\n",
       "      <th>95</th>\n",
       "      <td>Hello Coding 파이썬 (쌩초보의 처음 프로그래밍)</td>\n",
       "      <td>윤인성</td>\n",
       "      <td>20180102</td>\n",
       "    </tr>\n",
       "    <tr>\n",
       "      <th>96</th>\n",
       "      <td>colab에서 파이썬 빅데이터 처리</td>\n",
       "      <td>진하수</td>\n",
       "      <td>20220614</td>\n",
       "    </tr>\n",
       "    <tr>\n",
       "      <th>97</th>\n",
       "      <td>데이터 분석을 위한 파이썬 철저 입문 (기초 문법부터 실무에 필요한 데이터 분석 기...</td>\n",
       "      <td>최은석</td>\n",
       "      <td>20190425</td>\n",
       "    </tr>\n",
       "    <tr>\n",
       "      <th>98</th>\n",
       "      <td>만들면서 배우는 파이썬 하나, 둘, 셋</td>\n",
       "      <td>나인섭</td>\n",
       "      <td>20211210</td>\n",
       "    </tr>\n",
       "    <tr>\n",
       "      <th>99</th>\n",
       "      <td>Introduction to 파이썬 (338 예제로 완성하는 파이썬)</td>\n",
       "      <td>황재호</td>\n",
       "      <td>20210301</td>\n",
       "    </tr>\n",
       "  </tbody>\n",
       "</table>\n",
       "</div>"
      ],
      "text/plain": [
       "                                                  책제목   작가       출판일\n",
       "95                   Hello Coding 파이썬 (쌩초보의 처음 프로그래밍)  윤인성  20180102\n",
       "96                                colab에서 파이썬 빅데이터 처리  진하수  20220614\n",
       "97  데이터 분석을 위한 파이썬 철저 입문 (기초 문법부터 실무에 필요한 데이터 분석 기...  최은석  20190425\n",
       "98                              만들면서 배우는 파이썬 하나, 둘, 셋  나인섭  20211210\n",
       "99             Introduction to 파이썬 (338 예제로 완성하는 파이썬)  황재호  20210301"
      ]
     },
     "execution_count": 49,
     "metadata": {},
     "output_type": "execute_result"
    }
   ],
   "source": [
    "result_search.tail()"
   ]
  },
  {
   "cell_type": "code",
   "execution_count": null,
   "id": "79048fdb",
   "metadata": {},
   "outputs": [],
   "source": []
  }
 ],
 "metadata": {
  "kernelspec": {
   "display_name": "Python 3 (ipykernel)",
   "language": "python",
   "name": "python3"
  },
  "language_info": {
   "codemirror_mode": {
    "name": "ipython",
    "version": 3
   },
   "file_extension": ".py",
   "mimetype": "text/x-python",
   "name": "python",
   "nbconvert_exporter": "python",
   "pygments_lexer": "ipython3",
   "version": "3.9.7"
  }
 },
 "nbformat": 4,
 "nbformat_minor": 5
}
