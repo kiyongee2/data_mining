{
 "cells": [
  {
   "cell_type": "markdown",
   "id": "11146d3f",
   "metadata": {},
   "source": [
    "## 네이버 API 사용해 보기\n",
    "### 네이버 개발자 센터 > 애플리케이션"
   ]
  },
  {
   "cell_type": "markdown",
   "id": "8305256e",
   "metadata": {},
   "source": [
    "### 네이버 블로그 검색\n",
    "#### https://openapi.naver.com/v1/search/blog.json"
   ]
  },
  {
   "cell_type": "code",
   "execution_count": 1,
   "id": "c68a70ec",
   "metadata": {},
   "outputs": [
    {
     "name": "stdout",
     "output_type": "stream",
     "text": [
      "200\n",
      "<class 'http.client.HTTPResponse'>\n"
     ]
    }
   ],
   "source": [
    "import urllib.request\n",
    "\n",
    "# 네이버 애플리케이션 정보 등록\n",
    "client_id = \"r6qI_94FASAJ5Tc7gDGO\"\n",
    "client_secret = \"K1NBHzZ43n\"\n",
    "\n",
    "encText = urllib.parse.quote(\"sugu2000kr\")  #인코딩 텍스트 할당\n",
    "url = \"https://openapi.naver.com/v1/search/blog.json?query=\" + encText\n",
    "\n",
    "request = urllib.request.Request(url)  #요청시 header로 client_id/client_secret 보내줌\n",
    "request.add_header(\"X-Naver-Client-Id\", client_id)\n",
    "request.add_header(\"X-Naver-Client-Secret\", client_secret)\n",
    "\n",
    "response = urllib.request.urlopen(request)  #응답(데이터 받아옴)\n",
    "print(response.getcode())\n",
    "print(type(response))"
   ]
  },
  {
   "cell_type": "code",
   "execution_count": 2,
   "id": "4a6dd6a2",
   "metadata": {},
   "outputs": [
    {
     "data": {
      "text/plain": [
       "'{\\n\\t\"lastBuildDate\":\"Fri, 12 May 2023 07:31:27 +0900\",\\n\\t\"total\":2,\\n\\t\"start\":1,\\n\\t\"display\":2,\\n\\t\"items\":[\\n\\t\\t{\\n\\t\\t\\t\"title\":\"펭귄 식당\",\\n\\t\\t\\t\"link\":\"https:\\\\/\\\\/blog.naver.com\\\\/twinshan4\\\\/130148471403\",\\n\\t\\t\\t\"description\":\"웃는바위(<b>sugu2000kr<\\\\/b>)카페매니저A123.com - 4500+ Free Games A123.com - 4500+ Free Games 뜨는시간(로딩)이 조금 걸리네요.. 넘 재미난 게임이에요.. [출처] 팽귄식당 (한컴CQ교실\\\\/한컴미래로봇... \",\\n\\t\\t\\t\"bloggername\":\"twinshan4님의블로그\",\\n\\t\\t\\t\"bloggerlink\":\"blog.naver.com\\\\/twinshan4\",\\n\\t\\t\\t\"postdate\":\"20121002\"\\n\\t\\t},\\n\\t\\t{\\n\\t\\t\\t\"title\":\"nrc선불제\",\\n\\t\\t\\t\"link\":\"https:\\\\/\\\\/blog.naver.com\\\\/shdalma\\\\/60013885456\",\\n\\t\\t\\t\"description\":\"| 밥 일 꿈 2005\\\\/06\\\\/11 21:44 http:\\\\/\\\\/blog.naver.com\\\\/<b>sugu2000kr<\\\\/b>\\\\/140013885299 출처블로그 : 행동은 생각을 지배한다 지금부터 내가 하고자 하는 이야기는, 통신으로 어떻게 돈을 벌 수 있는가에 대한 내용이야... 먼저는 통신이... \",\\n\\t\\t\\t\"bloggername\":\"shdalma님의 블로그\",\\n\\t\\t\\t\"bloggerlink\":\"blog.naver.com\\\\/shdalma\",\\n\\t\\t\\t\"postdate\":\"20050613\"\\n\\t\\t}\\n\\t]\\n}'"
      ]
     },
     "execution_count": 2,
     "metadata": {},
     "output_type": "execute_result"
    }
   ],
   "source": [
    "response.read().decode('utf-8')"
   ]
  },
  {
   "cell_type": "markdown",
   "id": "cfb7a836",
   "metadata": {},
   "source": [
    "### 네이버 책 검색\n",
    "#### https://openapi.naver.com/v1/search/book.json"
   ]
  },
  {
   "cell_type": "code",
   "execution_count": 3,
   "id": "c7cda286",
   "metadata": {},
   "outputs": [
    {
     "data": {
      "text/plain": [
       "'https://openapi.naver.com/v1/search/book.json?query=TEST&start=1&display=5'"
      ]
     },
     "execution_count": 3,
     "metadata": {},
     "output_type": "execute_result"
    }
   ],
   "source": [
    "import urllib.request\n",
    "\n",
    "def create_url(api_node, search_text, start_num, disp_num):\n",
    "    base = \"https://openapi.naver.com/v1/search\"\n",
    "    node = \"/\" + api_node + \".json\"\n",
    "    param_query = \"?query=\" + urllib.parse.quote(search_text)\n",
    "    param_start = \"&start=\" + str(start_num)\n",
    "    param_disp = \"&display=\" + str(disp_num)\n",
    "    \n",
    "    return base + node + param_query + param_start + param_disp\n",
    "\n",
    "create_url(\"book\", \"TEST\", 1, 5)"
   ]
  },
  {
   "cell_type": "code",
   "execution_count": 4,
   "id": "734a7d83",
   "metadata": {},
   "outputs": [
    {
     "name": "stdout",
     "output_type": "stream",
     "text": [
      "{'lastBuildDate': 'Fri, 12 May 2023 07:32:03 +0900', 'total': 874, 'start': 1, 'display': 3, 'items': [{'title': 'Do it! 점프 투 파이썬 (이미 200만명이 이 책으로 프로그래밍을 시작했다!)', 'link': 'https://search.shopping.naver.com/book/catalog/32456895000', 'image': 'https://shopping-phinf.pstatic.net/main_3245689/32456895000.20230511071611.jpg', 'author': '박응용', 'discount': '16920', 'publisher': '이지스퍼블리싱', 'pubdate': '20190620', 'isbn': '9791163030911', 'description': '파이썬 4년 연속 베스트셀러 1위! \\n『Do it! 점프 투 파이썬』 전면 개정판 출시!\\n\\n문과생도 중고등학생도 직장인도 프로그래밍에 눈뜨게 만든 바로 그 책이 전면 개정판으로 새로 태어났다! 2016년 《Do it! 점프 투 파이썬》으로 출간되었던 이 책은 약 4년 동안의 피드백을 반영하여 초보자가 더 빠르게 입문하고, 더 깊이 있게 공부할 수 있도록 개정되었다. 특히 ‘나 혼자 코딩’과 ‘코딩 면허 시험 20제’ 등 독자의 학습 흐름에 맞게 문제를 보강한 점이 눈에 띈다. 실습량도 두 배로 늘었다.\\n4년 동안 압도적 1위! 위키독스 누적 방문 200만! 수많은 대학 및 학원의 교재 채택 등! 검증은 이미 끝났다. 코딩을 처음 배우는 중고등학생부터 나만의 경쟁력이 필요한 문과생, 데이터 분석과 인공지능/머신러닝으로 커리어를 뻗어 나가고 싶은 직장인까지! 프로그래밍의 세계에 풍덩 빠져 보자.'}, {'title': '코딩 자율학습 나도코딩의 파이썬 입문 (초보자 눈높이에 맞춘 친절한 프로그래밍 자습서)', 'link': 'https://search.shopping.naver.com/book/catalog/37828235624', 'image': 'https://shopping-phinf.pstatic.net/main_3782823/37828235624.20230404163151.jpg', 'author': '나도코딩', 'discount': '20520', 'publisher': '길벗', 'pubdate': '20230220', 'isbn': '9791140703302', 'description': '30만 명의 구독자와 2만 6천 명의 수강생이 증명한 최고의 파이썬 강의\\n나도코딩의 프로그래밍 학습 노하우를 배우자!\\n\\n유튜브와 인프런 최고의 인기 강의를 한 권에 담았습니다. 일상 속 재미있는 예제로 파이썬 기본 개념을 배우고 1분 퀴즈, 실습 문제, 셀프체크로 이어지는 단계별 학습으로 파이썬을 완공할 수 있습니다. 이제 코딩은 선택이 아닌 필수! 코딩은 전공자만 배울 수 있다는 생각으로 지레 포기하지 마세요. 파이썬은 초보자가 가장 쉽게 배울 수 있는 프로그래밍 언어입니다. 관심만 있다면 누구나 코딩을 배울 수 있습니다. 나도코딩이 쉽고 재미있게 알려드립니다. 코딩을 처음 배우는 사람도 단계적 용어 설명과 친절한 지시선으로 막힘없이 따라 할 수 있습니다. 기본 설명 외에 팁, 노트 등을 적재적소에 배치해 혼자 공부할 때 생길 수 있는 의문점을 쉽게 해결할 수 있게 도와줍니다. 이제 〈코딩 자율학습 나도코딩의 파이썬 입문〉으로 완벽한 코딩 자율학습을 경험해 보세요.'}, {'title': '파이썬 무작정 따라하기 (미래의 프로그래머를 위한)', 'link': 'https://search.shopping.naver.com/book/catalog/32439274496', 'image': 'https://shopping-phinf.pstatic.net/main_3243927/32439274496.20230328163144.jpg', 'author': '서승희^송석리', 'discount': '12600', 'publisher': '길벗', 'pubdate': '20211220', 'isbn': '9791165217891', 'description': '초등학생을 위한 파이썬 교재\\n첫 코딩을 쉽고 재밌게!\\n\\n이 책은 초등학생부터 청소년까지 쉽고 체계적으로 파이썬 코딩을 배울 수 있는 책입니다. 데이터, 조건문, 변수, 반복문, 함수, 라이브러리 등 개념 이해부터, 코드 실습, 연습 문제 3단계 구성으로 차근차근 따라 할 수 있도록 안내합니다. 기본 개념을 배운 후에는 터틀 그래픽으로 그림을 그려보고, 마지막으로는 ‘불꽃을 발사해서 몹을 물리치는’ 게임을 직접 만들어 봅니다. 블록 코딩을 끝낸 뒤 텍스트 코딩을 본격적으로 배우고 싶다면 이 책으로 시작해 보세요!\\n\\n파이썬 설치부터 활용 방법, 기본 개념을 꼼꼼하게 자세하게 알려줘요!\\n파이썬은 무엇이며 어떻게 사용하는지 차근차근 알아봅니다. 현직 교사가 집필하여 아이들의 눈높이에서 개념 설명부터 코드 실습, 연습 문제까지 단계별로 짚어줍니다. 아이들이 좋아하는 캐릭터와 판타지 스토리텔링을 따라가다 보면 데이터, 조건문, 반복문, 변수 같은 파이썬 기본 개념과 자연스레 친해질 수 있습니다.\\n \\n배운 내용을 응용하고 발전시켜 봐요!\\n앞에서 배운 기본 문법을 응용하여 코딩 문제를 풀어 보고 터틀 라이브러리를 사용해서 멋진 마법진도 그려 봅니다. 딕셔너리, 리스트 등 심화된 내용도 차근차근 따라 한다면 어렵지 않아요!\\n \\n나만의 파이썬 게임을 만들어 봐요!\\n파이게임 라이브러리를 사용하여 나만의 게임을 만들어 봅니다. 캐릭터 상하좌우 이동부터 투명 마법, 몹 등장, 불꽃 공격, 소리 효과 등 게임 제작의 기본적인 과정을 재밌게 실습해 봅니다. \\n \\n 누구를 위한 책인가요?\\n- 블록 코딩을 배우고 처음으로 텍스트 코딩을 배우려는 초등 5~6학년, 중등 1~2학년\\n- 코딩을 쉽게 배우고 싶은 모든 사람'}]}\n"
     ]
    }
   ],
   "source": [
    "import json\n",
    "\n",
    "client_id = \"r6qI_94FASAJ5Tc7gDGO\"\n",
    "client_secret = \"K1NBHzZ43n\"\n",
    "\n",
    "url = create_url(\"book\", \"파이썬\", 1, 3)\n",
    "\n",
    "# 요청\n",
    "request = urllib.request.Request(url)\n",
    "request.add_header(\"X-Naver-Client-Id\", client_id)\n",
    "request.add_header(\"X-Naver-Client-Secret\", client_secret)\n",
    "# 응답\n",
    "response = urllib.request.urlopen(request)\n",
    "result = json.loads(response.read().decode('utf-8'))\n",
    "print(result)"
   ]
  },
  {
   "cell_type": "code",
   "execution_count": 5,
   "id": "fcc3176d",
   "metadata": {},
   "outputs": [
    {
     "data": {
      "text/plain": [
       "3"
      ]
     },
     "execution_count": 5,
     "metadata": {},
     "output_type": "execute_result"
    }
   ],
   "source": [
    "result['display']"
   ]
  },
  {
   "cell_type": "code",
   "execution_count": 6,
   "id": "52ff4a94",
   "metadata": {},
   "outputs": [
    {
     "data": {
      "text/plain": [
       "[{'title': 'Do it! 점프 투 파이썬 (이미 200만명이 이 책으로 프로그래밍을 시작했다!)',\n",
       "  'link': 'https://search.shopping.naver.com/book/catalog/32456895000',\n",
       "  'image': 'https://shopping-phinf.pstatic.net/main_3245689/32456895000.20230511071611.jpg',\n",
       "  'author': '박응용',\n",
       "  'discount': '16920',\n",
       "  'publisher': '이지스퍼블리싱',\n",
       "  'pubdate': '20190620',\n",
       "  'isbn': '9791163030911',\n",
       "  'description': '파이썬 4년 연속 베스트셀러 1위! \\n『Do it! 점프 투 파이썬』 전면 개정판 출시!\\n\\n문과생도 중고등학생도 직장인도 프로그래밍에 눈뜨게 만든 바로 그 책이 전면 개정판으로 새로 태어났다! 2016년 《Do it! 점프 투 파이썬》으로 출간되었던 이 책은 약 4년 동안의 피드백을 반영하여 초보자가 더 빠르게 입문하고, 더 깊이 있게 공부할 수 있도록 개정되었다. 특히 ‘나 혼자 코딩’과 ‘코딩 면허 시험 20제’ 등 독자의 학습 흐름에 맞게 문제를 보강한 점이 눈에 띈다. 실습량도 두 배로 늘었다.\\n4년 동안 압도적 1위! 위키독스 누적 방문 200만! 수많은 대학 및 학원의 교재 채택 등! 검증은 이미 끝났다. 코딩을 처음 배우는 중고등학생부터 나만의 경쟁력이 필요한 문과생, 데이터 분석과 인공지능/머신러닝으로 커리어를 뻗어 나가고 싶은 직장인까지! 프로그래밍의 세계에 풍덩 빠져 보자.'},\n",
       " {'title': '코딩 자율학습 나도코딩의 파이썬 입문 (초보자 눈높이에 맞춘 친절한 프로그래밍 자습서)',\n",
       "  'link': 'https://search.shopping.naver.com/book/catalog/37828235624',\n",
       "  'image': 'https://shopping-phinf.pstatic.net/main_3782823/37828235624.20230404163151.jpg',\n",
       "  'author': '나도코딩',\n",
       "  'discount': '20520',\n",
       "  'publisher': '길벗',\n",
       "  'pubdate': '20230220',\n",
       "  'isbn': '9791140703302',\n",
       "  'description': '30만 명의 구독자와 2만 6천 명의 수강생이 증명한 최고의 파이썬 강의\\n나도코딩의 프로그래밍 학습 노하우를 배우자!\\n\\n유튜브와 인프런 최고의 인기 강의를 한 권에 담았습니다. 일상 속 재미있는 예제로 파이썬 기본 개념을 배우고 1분 퀴즈, 실습 문제, 셀프체크로 이어지는 단계별 학습으로 파이썬을 완공할 수 있습니다. 이제 코딩은 선택이 아닌 필수! 코딩은 전공자만 배울 수 있다는 생각으로 지레 포기하지 마세요. 파이썬은 초보자가 가장 쉽게 배울 수 있는 프로그래밍 언어입니다. 관심만 있다면 누구나 코딩을 배울 수 있습니다. 나도코딩이 쉽고 재미있게 알려드립니다. 코딩을 처음 배우는 사람도 단계적 용어 설명과 친절한 지시선으로 막힘없이 따라 할 수 있습니다. 기본 설명 외에 팁, 노트 등을 적재적소에 배치해 혼자 공부할 때 생길 수 있는 의문점을 쉽게 해결할 수 있게 도와줍니다. 이제 〈코딩 자율학습 나도코딩의 파이썬 입문〉으로 완벽한 코딩 자율학습을 경험해 보세요.'},\n",
       " {'title': '파이썬 무작정 따라하기 (미래의 프로그래머를 위한)',\n",
       "  'link': 'https://search.shopping.naver.com/book/catalog/32439274496',\n",
       "  'image': 'https://shopping-phinf.pstatic.net/main_3243927/32439274496.20230328163144.jpg',\n",
       "  'author': '서승희^송석리',\n",
       "  'discount': '12600',\n",
       "  'publisher': '길벗',\n",
       "  'pubdate': '20211220',\n",
       "  'isbn': '9791165217891',\n",
       "  'description': '초등학생을 위한 파이썬 교재\\n첫 코딩을 쉽고 재밌게!\\n\\n이 책은 초등학생부터 청소년까지 쉽고 체계적으로 파이썬 코딩을 배울 수 있는 책입니다. 데이터, 조건문, 변수, 반복문, 함수, 라이브러리 등 개념 이해부터, 코드 실습, 연습 문제 3단계 구성으로 차근차근 따라 할 수 있도록 안내합니다. 기본 개념을 배운 후에는 터틀 그래픽으로 그림을 그려보고, 마지막으로는 ‘불꽃을 발사해서 몹을 물리치는’ 게임을 직접 만들어 봅니다. 블록 코딩을 끝낸 뒤 텍스트 코딩을 본격적으로 배우고 싶다면 이 책으로 시작해 보세요!\\n\\n파이썬 설치부터 활용 방법, 기본 개념을 꼼꼼하게 자세하게 알려줘요!\\n파이썬은 무엇이며 어떻게 사용하는지 차근차근 알아봅니다. 현직 교사가 집필하여 아이들의 눈높이에서 개념 설명부터 코드 실습, 연습 문제까지 단계별로 짚어줍니다. 아이들이 좋아하는 캐릭터와 판타지 스토리텔링을 따라가다 보면 데이터, 조건문, 반복문, 변수 같은 파이썬 기본 개념과 자연스레 친해질 수 있습니다.\\n \\n배운 내용을 응용하고 발전시켜 봐요!\\n앞에서 배운 기본 문법을 응용하여 코딩 문제를 풀어 보고 터틀 라이브러리를 사용해서 멋진 마법진도 그려 봅니다. 딕셔너리, 리스트 등 심화된 내용도 차근차근 따라 한다면 어렵지 않아요!\\n \\n나만의 파이썬 게임을 만들어 봐요!\\n파이게임 라이브러리를 사용하여 나만의 게임을 만들어 봅니다. 캐릭터 상하좌우 이동부터 투명 마법, 몹 등장, 불꽃 공격, 소리 효과 등 게임 제작의 기본적인 과정을 재밌게 실습해 봅니다. \\n \\n 누구를 위한 책인가요?\\n- 블록 코딩을 배우고 처음으로 텍스트 코딩을 배우려는 초등 5~6학년, 중등 1~2학년\\n- 코딩을 쉽게 배우고 싶은 모든 사람'}]"
      ]
     },
     "execution_count": 6,
     "metadata": {},
     "output_type": "execute_result"
    }
   ],
   "source": [
    "result['items']"
   ]
  },
  {
   "cell_type": "code",
   "execution_count": 7,
   "id": "68ffc459",
   "metadata": {},
   "outputs": [
    {
     "name": "stdout",
     "output_type": "stream",
     "text": [
      "Do it! 점프 투 파이썬 (이미 200만명이 이 책으로 프로그래밍을 시작했다!)\n",
      "코딩 자율학습 나도코딩의 파이썬 입문 (초보자 눈높이에 맞춘 친절한 프로그래밍 자습서)\n",
      "파이썬 무작정 따라하기 (미래의 프로그래머를 위한)\n"
     ]
    },
    {
     "data": {
      "text/plain": [
       "['Do it! 점프 투 파이썬 (이미 200만명이 이 책으로 프로그래밍을 시작했다!)',\n",
       " '코딩 자율학습 나도코딩의 파이썬 입문 (초보자 눈높이에 맞춘 친절한 프로그래밍 자습서)',\n",
       " '파이썬 무작정 따라하기 (미래의 프로그래머를 위한)']"
      ]
     },
     "execution_count": 7,
     "metadata": {},
     "output_type": "execute_result"
    }
   ],
   "source": [
    "for i in range(3):\n",
    "    print(result['items'][i]['title'])\n",
    "\n",
    "titles = [result['items'][i] for i in range(3)]\n",
    "# titles\n",
    "titles = [result['items'][i]['title'] for i in range(3)]\n",
    "titles"
   ]
  },
  {
   "cell_type": "code",
   "execution_count": 8,
   "id": "1b0f9b02",
   "metadata": {},
   "outputs": [
    {
     "name": "stdout",
     "output_type": "stream",
     "text": [
      "['박응용', '나도코딩', '서승희^송석리']\n",
      "['20190620', '20230220', '20211220']\n"
     ]
    }
   ],
   "source": [
    "authors = [result['items'][i]['author'] for i in range(3)]\n",
    "print(authors)\n",
    "pubdates = [result['items'][i]['pubdate'] for i in range(3)]\n",
    "print(pubdates)"
   ]
  },
  {
   "cell_type": "markdown",
   "id": "e0204784",
   "metadata": {},
   "source": [
    "### 책 정보를 데이터 프레임으로 만들기"
   ]
  },
  {
   "cell_type": "code",
   "execution_count": 9,
   "id": "6122965e",
   "metadata": {},
   "outputs": [
    {
     "data": {
      "text/html": [
       "<div>\n",
       "<style scoped>\n",
       "    .dataframe tbody tr th:only-of-type {\n",
       "        vertical-align: middle;\n",
       "    }\n",
       "\n",
       "    .dataframe tbody tr th {\n",
       "        vertical-align: top;\n",
       "    }\n",
       "\n",
       "    .dataframe thead th {\n",
       "        text-align: right;\n",
       "    }\n",
       "</style>\n",
       "<table border=\"1\" class=\"dataframe\">\n",
       "  <thead>\n",
       "    <tr style=\"text-align: right;\">\n",
       "      <th></th>\n",
       "      <th>책제목</th>\n",
       "      <th>작가</th>\n",
       "      <th>출판일</th>\n",
       "    </tr>\n",
       "  </thead>\n",
       "  <tbody>\n",
       "    <tr>\n",
       "      <th>0</th>\n",
       "      <td>Do it! 점프 투 파이썬 (이미 200만명이 이 책으로 프로그래밍을 시작했다!)</td>\n",
       "      <td>박응용</td>\n",
       "      <td>20190620</td>\n",
       "    </tr>\n",
       "    <tr>\n",
       "      <th>1</th>\n",
       "      <td>코딩 자율학습 나도코딩의 파이썬 입문 (초보자 눈높이에 맞춘 친절한 프로그래밍 자습서)</td>\n",
       "      <td>나도코딩</td>\n",
       "      <td>20230220</td>\n",
       "    </tr>\n",
       "    <tr>\n",
       "      <th>2</th>\n",
       "      <td>파이썬 무작정 따라하기 (미래의 프로그래머를 위한)</td>\n",
       "      <td>서승희^송석리</td>\n",
       "      <td>20211220</td>\n",
       "    </tr>\n",
       "  </tbody>\n",
       "</table>\n",
       "</div>"
      ],
      "text/plain": [
       "                                                책제목       작가       출판일\n",
       "0    Do it! 점프 투 파이썬 (이미 200만명이 이 책으로 프로그래밍을 시작했다!)      박응용  20190620\n",
       "1  코딩 자율학습 나도코딩의 파이썬 입문 (초보자 눈높이에 맞춘 친절한 프로그래밍 자습서)     나도코딩  20230220\n",
       "2                      파이썬 무작정 따라하기 (미래의 프로그래머를 위한)  서승희^송석리  20211220"
      ]
     },
     "execution_count": 9,
     "metadata": {},
     "output_type": "execute_result"
    }
   ],
   "source": [
    "import pandas as pd\n",
    "\n",
    "df = pd.DataFrame({\n",
    "    '책제목': titles,\n",
    "    '작가': authors,\n",
    "    '출판일': pubdates\n",
    "})\n",
    "df"
   ]
  },
  {
   "cell_type": "code",
   "execution_count": null,
   "id": "17f21212",
   "metadata": {},
   "outputs": [],
   "source": [
    "import urllib.request\n",
    "import json\n",
    "\n",
    "def create_url(api_node, search_text, start_num, disp_num):\n",
    "    base = \"https://openapi.naver.com/v1/search\"\n",
    "    node = \"/\" + api_node + \".json\"\n",
    "    param_query = \"?query=\" + urllib.parse.quote(search_text)\n",
    "    param_start = \"&start=\" + str(start_num)\n",
    "    param_disp = \"&display=\" + str(disp_num)\n",
    "    \n",
    "    return base + node + param_query + param_start + param_disp\n",
    "\n",
    "client_id = \"ZpzF1rgmkgVK5icVR9Ou\"\n",
    "client_secret = \"VmiMCmgoip\"\n",
    "\n",
    "url = create_url(\"book\", \"데이터 분석\", 1, 5)\n",
    "\n",
    "# 요청\n",
    "request = urllib.request.Request(url)\n",
    "request.add_header(\"X-Naver-Client-Id\", client_id)\n",
    "request.add_header(\"X-Naver-Client-Secret\", client_secret)\n",
    "# 응답\n",
    "response = urllib.request.urlopen(request)\n",
    "result = json.loads(response.read().decode('utf-8'))\n",
    "print(result)\n",
    "\n",
    "# data frame을 만드는 함수 정의\n",
    "def get_dataframe(url):\n",
    "    client_id = \"ZpzF1rgmkgVK5icVR9Ou\"\n",
    "    client_secret = \"VmiMCmgoip\"\n",
    "\n",
    "    request = urllib.request.Request(url)\n",
    "    request.add_header(\"X-Naver-Client-Id\", client_id)\n",
    "    request.add_header(\"X-Naver-Client-Secret\", client_secret)\n",
    "\n",
    "    response = urllib.request.urlopen(request)\n",
    "    result = json.loads(response.read().decode('utf-8'))\n",
    "    \n",
    "    end_num = result['display']\n",
    "    \n",
    "    titles = [result['items'][n]['title'] for n in range(end_num)]\n",
    "    authors = [result['items'][n]['author'] for n in range(end_num)]\n",
    "    pubdates = [result['items'][n]['pubdate'] for n in range(end_num)]\n",
    "    \n",
    "    return pd.DataFrame({ '책제목': titles, '작가': authors, '출판일': pubdates})"
   ]
  },
  {
   "cell_type": "code",
   "execution_count": null,
   "id": "06b0ec77",
   "metadata": {},
   "outputs": [],
   "source": [
    "get_dataframe(url)"
   ]
  },
  {
   "cell_type": "markdown",
   "id": "0e98e7d5",
   "metadata": {},
   "source": [
    "### 보여줄 개수 지정하기"
   ]
  },
  {
   "cell_type": "code",
   "execution_count": null,
   "id": "125110fc",
   "metadata": {},
   "outputs": [],
   "source": [
    "result_search = []\n",
    "\n",
    "for n in range(1, 300):\n",
    "    url = create_url(\"book\", \"파이썬\", n, 100)\n",
    "    result_search.append(get_dataframe(url))\n",
    "\n",
    "result_search = pd.concat(result_search)"
   ]
  },
  {
   "cell_type": "code",
   "execution_count": 38,
   "id": "57bd4e33",
   "metadata": {},
   "outputs": [
    {
     "data": {
      "text/html": [
       "<div>\n",
       "<style scoped>\n",
       "    .dataframe tbody tr th:only-of-type {\n",
       "        vertical-align: middle;\n",
       "    }\n",
       "\n",
       "    .dataframe tbody tr th {\n",
       "        vertical-align: top;\n",
       "    }\n",
       "\n",
       "    .dataframe thead th {\n",
       "        text-align: right;\n",
       "    }\n",
       "</style>\n",
       "<table border=\"1\" class=\"dataframe\">\n",
       "  <thead>\n",
       "    <tr style=\"text-align: right;\">\n",
       "      <th></th>\n",
       "      <th>책제목</th>\n",
       "      <th>작가</th>\n",
       "      <th>출판일</th>\n",
       "    </tr>\n",
       "  </thead>\n",
       "  <tbody>\n",
       "    <tr>\n",
       "      <th>0</th>\n",
       "      <td>Do it! 점프 투 파이썬 (이미 200만명이 이 책으로 프로그래밍을 시작했다!)</td>\n",
       "      <td>박응용</td>\n",
       "      <td>20190620</td>\n",
       "    </tr>\n",
       "    <tr>\n",
       "      <th>1</th>\n",
       "      <td>코딩 자율학습 나도코딩의 파이썬 입문 (초보자 눈높이에 맞춘 친절한 프로그래밍 자습서)</td>\n",
       "      <td>나도코딩</td>\n",
       "      <td>20230220</td>\n",
       "    </tr>\n",
       "    <tr>\n",
       "      <th>2</th>\n",
       "      <td>파이썬 무작정 따라하기 (미래의 프로그래머를 위한)</td>\n",
       "      <td>서승희^송석리</td>\n",
       "      <td>20211220</td>\n",
       "    </tr>\n",
       "    <tr>\n",
       "      <th>3</th>\n",
       "      <td>챗GPT와 업무자동화 (1분 만에 끝내는 엑셀, 구글 시트, 파워포인트, 파이썬 자...</td>\n",
       "      <td>김철수</td>\n",
       "      <td>20230321</td>\n",
       "    </tr>\n",
       "    <tr>\n",
       "      <th>4</th>\n",
       "      <td>혼자 공부하는 파이썬 (1:1 과외하듯 배우는 프로그래밍 자습서)</td>\n",
       "      <td>윤인성</td>\n",
       "      <td>20220601</td>\n",
       "    </tr>\n",
       "  </tbody>\n",
       "</table>\n",
       "</div>"
      ],
      "text/plain": [
       "                                                 책제목       작가       출판일\n",
       "0     Do it! 점프 투 파이썬 (이미 200만명이 이 책으로 프로그래밍을 시작했다!)      박응용  20190620\n",
       "1   코딩 자율학습 나도코딩의 파이썬 입문 (초보자 눈높이에 맞춘 친절한 프로그래밍 자습서)     나도코딩  20230220\n",
       "2                       파이썬 무작정 따라하기 (미래의 프로그래머를 위한)  서승희^송석리  20211220\n",
       "3  챗GPT와 업무자동화 (1분 만에 끝내는 엑셀, 구글 시트, 파워포인트, 파이썬 자...      김철수  20230321\n",
       "4               혼자 공부하는 파이썬 (1:1 과외하듯 배우는 프로그래밍 자습서)      윤인성  20220601"
      ]
     },
     "execution_count": 38,
     "metadata": {},
     "output_type": "execute_result"
    }
   ],
   "source": [
    "result_search.head()"
   ]
  },
  {
   "cell_type": "code",
   "execution_count": 39,
   "id": "d78cd0a7",
   "metadata": {},
   "outputs": [
    {
     "data": {
      "text/html": [
       "<div>\n",
       "<style scoped>\n",
       "    .dataframe tbody tr th:only-of-type {\n",
       "        vertical-align: middle;\n",
       "    }\n",
       "\n",
       "    .dataframe tbody tr th {\n",
       "        vertical-align: top;\n",
       "    }\n",
       "\n",
       "    .dataframe thead th {\n",
       "        text-align: right;\n",
       "    }\n",
       "</style>\n",
       "<table border=\"1\" class=\"dataframe\">\n",
       "  <thead>\n",
       "    <tr style=\"text-align: right;\">\n",
       "      <th></th>\n",
       "      <th>책제목</th>\n",
       "      <th>작가</th>\n",
       "      <th>출판일</th>\n",
       "    </tr>\n",
       "  </thead>\n",
       "  <tbody>\n",
       "    <tr>\n",
       "      <th>95</th>\n",
       "      <td>트위스티드 : 파이썬 네트워크 프로그래밍 (파이썬 네트워크 프로그래밍)</td>\n",
       "      <td>제시카 맥켈러^아베 페티그</td>\n",
       "      <td>20140828</td>\n",
       "    </tr>\n",
       "    <tr>\n",
       "      <th>96</th>\n",
       "      <td>파이썬으로 텍스트 분석하기 (전략커뮤니케이션을 위한 텍스트 마이닝)</td>\n",
       "      <td>윤태일^이수안</td>\n",
       "      <td>20181230</td>\n",
       "    </tr>\n",
       "    <tr>\n",
       "      <th>97</th>\n",
       "      <td>엑셀Ⅹ파이썬 코드 레시피 125 (퇴근 시간을 앞당겨주는 엑셀 업무자동화를 위한 첫걸음)</td>\n",
       "      <td>카네히로 카즈미</td>\n",
       "      <td>20220510</td>\n",
       "    </tr>\n",
       "    <tr>\n",
       "      <th>98</th>\n",
       "      <td>파이썬으로 배우는 인공지능 (현실 세계와 지능적으로 상호 작용하는 인공지능 애플리케...</td>\n",
       "      <td>프라틱 조시</td>\n",
       "      <td>20170524</td>\n",
       "    </tr>\n",
       "    <tr>\n",
       "      <th>99</th>\n",
       "      <td>생활 속 문제를 통해 배워보는 머신 러닝 (파이썬 머신 러닝 블루프린트)</td>\n",
       "      <td>알렉산더 콤스</td>\n",
       "      <td>20171130</td>\n",
       "    </tr>\n",
       "  </tbody>\n",
       "</table>\n",
       "</div>"
      ],
      "text/plain": [
       "                                                  책제목              작가  \\\n",
       "95            트위스티드 : 파이썬 네트워크 프로그래밍 (파이썬 네트워크 프로그래밍)  제시카 맥켈러^아베 페티그   \n",
       "96              파이썬으로 텍스트 분석하기 (전략커뮤니케이션을 위한 텍스트 마이닝)         윤태일^이수안   \n",
       "97  엑셀Ⅹ파이썬 코드 레시피 125 (퇴근 시간을 앞당겨주는 엑셀 업무자동화를 위한 첫걸음)        카네히로 카즈미   \n",
       "98  파이썬으로 배우는 인공지능 (현실 세계와 지능적으로 상호 작용하는 인공지능 애플리케...          프라틱 조시   \n",
       "99           생활 속 문제를 통해 배워보는 머신 러닝 (파이썬 머신 러닝 블루프린트)         알렉산더 콤스   \n",
       "\n",
       "         출판일  \n",
       "95  20140828  \n",
       "96  20181230  \n",
       "97  20220510  \n",
       "98  20170524  \n",
       "99  20171130  "
      ]
     },
     "execution_count": 39,
     "metadata": {},
     "output_type": "execute_result"
    }
   ],
   "source": [
    "result_search.tail()"
   ]
  },
  {
   "cell_type": "code",
   "execution_count": null,
   "id": "79048fdb",
   "metadata": {},
   "outputs": [],
   "source": []
  }
 ],
 "metadata": {
  "kernelspec": {
   "display_name": "Python 3 (ipykernel)",
   "language": "python",
   "name": "python3"
  },
  "language_info": {
   "codemirror_mode": {
    "name": "ipython",
    "version": 3
   },
   "file_extension": ".py",
   "mimetype": "text/x-python",
   "name": "python",
   "nbconvert_exporter": "python",
   "pygments_lexer": "ipython3",
   "version": "3.9.7"
  }
 },
 "nbformat": 4,
 "nbformat_minor": 5
}
